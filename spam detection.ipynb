{
 "cells": [
  {
   "cell_type": "markdown",
   "id": "b325aa51",
   "metadata": {},
   "source": [
    "## SMS SPAM DETECTION"
   ]
  },
  {
   "cell_type": "code",
   "execution_count": 3,
   "id": "34e49c14",
   "metadata": {},
   "outputs": [],
   "source": [
    "import numpy as np\n",
    "import pandas as pd"
   ]
  },
  {
   "cell_type": "code",
   "execution_count": 4,
   "id": "6b7249bf",
   "metadata": {},
   "outputs": [],
   "source": [
    "df = pd.read_csv('spam.csv', encoding='latin-1')"
   ]
  },
  {
   "cell_type": "code",
   "execution_count": 5,
   "id": "0e4b7f52",
   "metadata": {},
   "outputs": [
    {
     "data": {
      "text/html": [
       "<div>\n",
       "<style scoped>\n",
       "    .dataframe tbody tr th:only-of-type {\n",
       "        vertical-align: middle;\n",
       "    }\n",
       "\n",
       "    .dataframe tbody tr th {\n",
       "        vertical-align: top;\n",
       "    }\n",
       "\n",
       "    .dataframe thead th {\n",
       "        text-align: right;\n",
       "    }\n",
       "</style>\n",
       "<table border=\"1\" class=\"dataframe\">\n",
       "  <thead>\n",
       "    <tr style=\"text-align: right;\">\n",
       "      <th></th>\n",
       "      <th>v1</th>\n",
       "      <th>v2</th>\n",
       "      <th>Unnamed: 2</th>\n",
       "      <th>Unnamed: 3</th>\n",
       "      <th>Unnamed: 4</th>\n",
       "    </tr>\n",
       "  </thead>\n",
       "  <tbody>\n",
       "    <tr>\n",
       "      <th>1331</th>\n",
       "      <td>ham</td>\n",
       "      <td>Good Morning plz call me sir</td>\n",
       "      <td>NaN</td>\n",
       "      <td>NaN</td>\n",
       "      <td>NaN</td>\n",
       "    </tr>\n",
       "    <tr>\n",
       "      <th>2198</th>\n",
       "      <td>ham</td>\n",
       "      <td>I'm in a movie. Call me 4 wat?</td>\n",
       "      <td>NaN</td>\n",
       "      <td>NaN</td>\n",
       "      <td>NaN</td>\n",
       "    </tr>\n",
       "    <tr>\n",
       "      <th>3990</th>\n",
       "      <td>ham</td>\n",
       "      <td>I am on the way to ur home</td>\n",
       "      <td>NaN</td>\n",
       "      <td>NaN</td>\n",
       "      <td>NaN</td>\n",
       "    </tr>\n",
       "    <tr>\n",
       "      <th>2583</th>\n",
       "      <td>ham</td>\n",
       "      <td>Goodmorning, today i am late for 1hr.</td>\n",
       "      <td>NaN</td>\n",
       "      <td>NaN</td>\n",
       "      <td>NaN</td>\n",
       "    </tr>\n",
       "    <tr>\n",
       "      <th>271</th>\n",
       "      <td>ham</td>\n",
       "      <td>Night has ended for another day, morning has c...</td>\n",
       "      <td>NaN</td>\n",
       "      <td>NaN</td>\n",
       "      <td>NaN</td>\n",
       "    </tr>\n",
       "  </tbody>\n",
       "</table>\n",
       "</div>"
      ],
      "text/plain": [
       "       v1                                                 v2 Unnamed: 2  \\\n",
       "1331  ham                       Good Morning plz call me sir        NaN   \n",
       "2198  ham                     I'm in a movie. Call me 4 wat?        NaN   \n",
       "3990  ham                         I am on the way to ur home        NaN   \n",
       "2583  ham              Goodmorning, today i am late for 1hr.        NaN   \n",
       "271   ham  Night has ended for another day, morning has c...        NaN   \n",
       "\n",
       "     Unnamed: 3 Unnamed: 4  \n",
       "1331        NaN        NaN  \n",
       "2198        NaN        NaN  \n",
       "3990        NaN        NaN  \n",
       "2583        NaN        NaN  \n",
       "271         NaN        NaN  "
      ]
     },
     "execution_count": 5,
     "metadata": {},
     "output_type": "execute_result"
    }
   ],
   "source": [
    "df.sample(5)"
   ]
  },
  {
   "cell_type": "code",
   "execution_count": 6,
   "id": "05a7888e",
   "metadata": {},
   "outputs": [
    {
     "data": {
      "text/plain": [
       "(5572, 5)"
      ]
     },
     "execution_count": 6,
     "metadata": {},
     "output_type": "execute_result"
    }
   ],
   "source": [
    "df.shape"
   ]
  },
  {
   "cell_type": "markdown",
   "id": "9809eb05",
   "metadata": {},
   "source": [
    "## 1. Data Cleaning"
   ]
  },
  {
   "cell_type": "code",
   "execution_count": 7,
   "id": "e5b6b7e0",
   "metadata": {},
   "outputs": [
    {
     "name": "stdout",
     "output_type": "stream",
     "text": [
      "<class 'pandas.core.frame.DataFrame'>\n",
      "RangeIndex: 5572 entries, 0 to 5571\n",
      "Data columns (total 5 columns):\n",
      " #   Column      Non-Null Count  Dtype \n",
      "---  ------      --------------  ----- \n",
      " 0   v1          5572 non-null   object\n",
      " 1   v2          5572 non-null   object\n",
      " 2   Unnamed: 2  50 non-null     object\n",
      " 3   Unnamed: 3  12 non-null     object\n",
      " 4   Unnamed: 4  6 non-null      object\n",
      "dtypes: object(5)\n",
      "memory usage: 217.8+ KB\n"
     ]
    }
   ],
   "source": [
    "df.info()"
   ]
  },
  {
   "cell_type": "code",
   "execution_count": 8,
   "id": "9ef29f62",
   "metadata": {},
   "outputs": [],
   "source": [
    "# to drop last 3 columns\n",
    "df.drop(columns=['Unnamed: 2', 'Unnamed: 3', 'Unnamed: 4'], inplace=True)"
   ]
  },
  {
   "cell_type": "code",
   "execution_count": 9,
   "id": "84ae9926",
   "metadata": {},
   "outputs": [
    {
     "data": {
      "text/html": [
       "<div>\n",
       "<style scoped>\n",
       "    .dataframe tbody tr th:only-of-type {\n",
       "        vertical-align: middle;\n",
       "    }\n",
       "\n",
       "    .dataframe tbody tr th {\n",
       "        vertical-align: top;\n",
       "    }\n",
       "\n",
       "    .dataframe thead th {\n",
       "        text-align: right;\n",
       "    }\n",
       "</style>\n",
       "<table border=\"1\" class=\"dataframe\">\n",
       "  <thead>\n",
       "    <tr style=\"text-align: right;\">\n",
       "      <th></th>\n",
       "      <th>v1</th>\n",
       "      <th>v2</th>\n",
       "    </tr>\n",
       "  </thead>\n",
       "  <tbody>\n",
       "    <tr>\n",
       "      <th>0</th>\n",
       "      <td>ham</td>\n",
       "      <td>Go until jurong point, crazy.. Available only ...</td>\n",
       "    </tr>\n",
       "    <tr>\n",
       "      <th>1</th>\n",
       "      <td>ham</td>\n",
       "      <td>Ok lar... Joking wif u oni...</td>\n",
       "    </tr>\n",
       "    <tr>\n",
       "      <th>2</th>\n",
       "      <td>spam</td>\n",
       "      <td>Free entry in 2 a wkly comp to win FA Cup fina...</td>\n",
       "    </tr>\n",
       "    <tr>\n",
       "      <th>3</th>\n",
       "      <td>ham</td>\n",
       "      <td>U dun say so early hor... U c already then say...</td>\n",
       "    </tr>\n",
       "    <tr>\n",
       "      <th>4</th>\n",
       "      <td>ham</td>\n",
       "      <td>Nah I don't think he goes to usf, he lives aro...</td>\n",
       "    </tr>\n",
       "  </tbody>\n",
       "</table>\n",
       "</div>"
      ],
      "text/plain": [
       "     v1                                                 v2\n",
       "0   ham  Go until jurong point, crazy.. Available only ...\n",
       "1   ham                      Ok lar... Joking wif u oni...\n",
       "2  spam  Free entry in 2 a wkly comp to win FA Cup fina...\n",
       "3   ham  U dun say so early hor... U c already then say...\n",
       "4   ham  Nah I don't think he goes to usf, he lives aro..."
      ]
     },
     "execution_count": 9,
     "metadata": {},
     "output_type": "execute_result"
    }
   ],
   "source": [
    "df.head()"
   ]
  },
  {
   "cell_type": "code",
   "execution_count": 10,
   "id": "bb279415",
   "metadata": {},
   "outputs": [
    {
     "data": {
      "text/html": [
       "<div>\n",
       "<style scoped>\n",
       "    .dataframe tbody tr th:only-of-type {\n",
       "        vertical-align: middle;\n",
       "    }\n",
       "\n",
       "    .dataframe tbody tr th {\n",
       "        vertical-align: top;\n",
       "    }\n",
       "\n",
       "    .dataframe thead th {\n",
       "        text-align: right;\n",
       "    }\n",
       "</style>\n",
       "<table border=\"1\" class=\"dataframe\">\n",
       "  <thead>\n",
       "    <tr style=\"text-align: right;\">\n",
       "      <th></th>\n",
       "      <th>target</th>\n",
       "      <th>text</th>\n",
       "    </tr>\n",
       "  </thead>\n",
       "  <tbody>\n",
       "    <tr>\n",
       "      <th>2268</th>\n",
       "      <td>spam</td>\n",
       "      <td>88066 FROM 88066 LOST 3POUND HELP</td>\n",
       "    </tr>\n",
       "    <tr>\n",
       "      <th>1422</th>\n",
       "      <td>spam</td>\n",
       "      <td>Congratulations ur awarded either å£500 of CD ...</td>\n",
       "    </tr>\n",
       "    <tr>\n",
       "      <th>1875</th>\n",
       "      <td>spam</td>\n",
       "      <td>HMV BONUS SPECIAL 500 pounds of genuine HMV vo...</td>\n",
       "    </tr>\n",
       "    <tr>\n",
       "      <th>4337</th>\n",
       "      <td>ham</td>\n",
       "      <td>Yes when is the appt again?</td>\n",
       "    </tr>\n",
       "    <tr>\n",
       "      <th>1590</th>\n",
       "      <td>ham</td>\n",
       "      <td>Somewhr someone is surely made 4 u. And God ha...</td>\n",
       "    </tr>\n",
       "  </tbody>\n",
       "</table>\n",
       "</div>"
      ],
      "text/plain": [
       "     target                                               text\n",
       "2268   spam                  88066 FROM 88066 LOST 3POUND HELP\n",
       "1422   spam  Congratulations ur awarded either å£500 of CD ...\n",
       "1875   spam  HMV BONUS SPECIAL 500 pounds of genuine HMV vo...\n",
       "4337    ham                        Yes when is the appt again?\n",
       "1590    ham  Somewhr someone is surely made 4 u. And God ha..."
      ]
     },
     "execution_count": 10,
     "metadata": {},
     "output_type": "execute_result"
    }
   ],
   "source": [
    "#renaming the columns\n",
    "df.rename(columns={'v1':'target', 'v2':'text'}, inplace=True)\n",
    "df.sample(5)"
   ]
  },
  {
   "cell_type": "code",
   "execution_count": 11,
   "id": "43ff9691",
   "metadata": {},
   "outputs": [
    {
     "name": "stdout",
     "output_type": "stream",
     "text": [
      "Requirement already satisfied: scikit-learn in c:\\users\\hp\\anaconda3\\lib\\site-packages (1.2.2)\n",
      "Requirement already satisfied: numpy>=1.17.3 in c:\\users\\hp\\anaconda3\\lib\\site-packages (from scikit-learn) (1.21.5)\n",
      "Requirement already satisfied: scipy>=1.3.2 in c:\\users\\hp\\anaconda3\\lib\\site-packages (from scikit-learn) (1.7.3)\n",
      "Requirement already satisfied: threadpoolctl>=2.0.0 in c:\\users\\hp\\anaconda3\\lib\\site-packages (from scikit-learn) (2.2.0)\n",
      "Requirement already satisfied: joblib>=1.1.1 in c:\\users\\hp\\anaconda3\\lib\\site-packages (from scikit-learn) (1.3.1)\n"
     ]
    }
   ],
   "source": [
    "!pip install -U scikit-learn\n",
    "from sklearn.preprocessing import LabelEncoder\n",
    "encoder = LabelEncoder"
   ]
  },
  {
   "cell_type": "code",
   "execution_count": 12,
   "id": "f443cb50",
   "metadata": {},
   "outputs": [],
   "source": [
    "df['target'] = encoder.fit_transform(df['text'], df['target'])"
   ]
  },
  {
   "cell_type": "code",
   "execution_count": 13,
   "id": "468dfda1",
   "metadata": {},
   "outputs": [
    {
     "data": {
      "text/html": [
       "<div>\n",
       "<style scoped>\n",
       "    .dataframe tbody tr th:only-of-type {\n",
       "        vertical-align: middle;\n",
       "    }\n",
       "\n",
       "    .dataframe tbody tr th {\n",
       "        vertical-align: top;\n",
       "    }\n",
       "\n",
       "    .dataframe thead th {\n",
       "        text-align: right;\n",
       "    }\n",
       "</style>\n",
       "<table border=\"1\" class=\"dataframe\">\n",
       "  <thead>\n",
       "    <tr style=\"text-align: right;\">\n",
       "      <th></th>\n",
       "      <th>target</th>\n",
       "      <th>text</th>\n",
       "    </tr>\n",
       "  </thead>\n",
       "  <tbody>\n",
       "    <tr>\n",
       "      <th>0</th>\n",
       "      <td>0</td>\n",
       "      <td>Go until jurong point, crazy.. Available only ...</td>\n",
       "    </tr>\n",
       "    <tr>\n",
       "      <th>1</th>\n",
       "      <td>0</td>\n",
       "      <td>Ok lar... Joking wif u oni...</td>\n",
       "    </tr>\n",
       "    <tr>\n",
       "      <th>2</th>\n",
       "      <td>1</td>\n",
       "      <td>Free entry in 2 a wkly comp to win FA Cup fina...</td>\n",
       "    </tr>\n",
       "    <tr>\n",
       "      <th>3</th>\n",
       "      <td>0</td>\n",
       "      <td>U dun say so early hor... U c already then say...</td>\n",
       "    </tr>\n",
       "    <tr>\n",
       "      <th>4</th>\n",
       "      <td>0</td>\n",
       "      <td>Nah I don't think he goes to usf, he lives aro...</td>\n",
       "    </tr>\n",
       "  </tbody>\n",
       "</table>\n",
       "</div>"
      ],
      "text/plain": [
       "   target                                               text\n",
       "0       0  Go until jurong point, crazy.. Available only ...\n",
       "1       0                      Ok lar... Joking wif u oni...\n",
       "2       1  Free entry in 2 a wkly comp to win FA Cup fina...\n",
       "3       0  U dun say so early hor... U c already then say...\n",
       "4       0  Nah I don't think he goes to usf, he lives aro..."
      ]
     },
     "execution_count": 13,
     "metadata": {},
     "output_type": "execute_result"
    }
   ],
   "source": [
    "df.head()"
   ]
  },
  {
   "cell_type": "code",
   "execution_count": 14,
   "id": "ea0447ae",
   "metadata": {},
   "outputs": [
    {
     "data": {
      "text/plain": [
       "target    0\n",
       "text      0\n",
       "dtype: int64"
      ]
     },
     "execution_count": 14,
     "metadata": {},
     "output_type": "execute_result"
    }
   ],
   "source": [
    "#checking for missing values\n",
    "df.isnull().sum()"
   ]
  },
  {
   "cell_type": "code",
   "execution_count": 15,
   "id": "9dbfee4c",
   "metadata": {},
   "outputs": [
    {
     "data": {
      "text/plain": [
       "403"
      ]
     },
     "execution_count": 15,
     "metadata": {},
     "output_type": "execute_result"
    }
   ],
   "source": [
    "#checking for duplicate values\n",
    "df.duplicated().sum()"
   ]
  },
  {
   "cell_type": "code",
   "execution_count": 16,
   "id": "14e1c3d8",
   "metadata": {},
   "outputs": [],
   "source": [
    "#dropping the duplicate values\n",
    "df = df.drop_duplicates(keep='first')"
   ]
  },
  {
   "cell_type": "code",
   "execution_count": 17,
   "id": "5b8047c1",
   "metadata": {},
   "outputs": [
    {
     "data": {
      "text/plain": [
       "0"
      ]
     },
     "execution_count": 17,
     "metadata": {},
     "output_type": "execute_result"
    }
   ],
   "source": [
    "df.duplicated().sum()"
   ]
  },
  {
   "cell_type": "code",
   "execution_count": 18,
   "id": "002c1284",
   "metadata": {},
   "outputs": [
    {
     "data": {
      "text/plain": [
       "(5169, 2)"
      ]
     },
     "execution_count": 18,
     "metadata": {},
     "output_type": "execute_result"
    }
   ],
   "source": [
    "#new size of the data\n",
    "df.shape"
   ]
  },
  {
   "cell_type": "markdown",
   "id": "6bb83786",
   "metadata": {},
   "source": [
    "## 2. EDA"
   ]
  },
  {
   "cell_type": "code",
   "execution_count": 19,
   "id": "6d269187",
   "metadata": {},
   "outputs": [
    {
     "data": {
      "text/html": [
       "<div>\n",
       "<style scoped>\n",
       "    .dataframe tbody tr th:only-of-type {\n",
       "        vertical-align: middle;\n",
       "    }\n",
       "\n",
       "    .dataframe tbody tr th {\n",
       "        vertical-align: top;\n",
       "    }\n",
       "\n",
       "    .dataframe thead th {\n",
       "        text-align: right;\n",
       "    }\n",
       "</style>\n",
       "<table border=\"1\" class=\"dataframe\">\n",
       "  <thead>\n",
       "    <tr style=\"text-align: right;\">\n",
       "      <th></th>\n",
       "      <th>target</th>\n",
       "      <th>text</th>\n",
       "    </tr>\n",
       "  </thead>\n",
       "  <tbody>\n",
       "    <tr>\n",
       "      <th>0</th>\n",
       "      <td>0</td>\n",
       "      <td>Go until jurong point, crazy.. Available only ...</td>\n",
       "    </tr>\n",
       "    <tr>\n",
       "      <th>1</th>\n",
       "      <td>0</td>\n",
       "      <td>Ok lar... Joking wif u oni...</td>\n",
       "    </tr>\n",
       "    <tr>\n",
       "      <th>2</th>\n",
       "      <td>1</td>\n",
       "      <td>Free entry in 2 a wkly comp to win FA Cup fina...</td>\n",
       "    </tr>\n",
       "    <tr>\n",
       "      <th>3</th>\n",
       "      <td>0</td>\n",
       "      <td>U dun say so early hor... U c already then say...</td>\n",
       "    </tr>\n",
       "    <tr>\n",
       "      <th>4</th>\n",
       "      <td>0</td>\n",
       "      <td>Nah I don't think he goes to usf, he lives aro...</td>\n",
       "    </tr>\n",
       "  </tbody>\n",
       "</table>\n",
       "</div>"
      ],
      "text/plain": [
       "   target                                               text\n",
       "0       0  Go until jurong point, crazy.. Available only ...\n",
       "1       0                      Ok lar... Joking wif u oni...\n",
       "2       1  Free entry in 2 a wkly comp to win FA Cup fina...\n",
       "3       0  U dun say so early hor... U c already then say...\n",
       "4       0  Nah I don't think he goes to usf, he lives aro..."
      ]
     },
     "execution_count": 19,
     "metadata": {},
     "output_type": "execute_result"
    }
   ],
   "source": [
    "df.head()"
   ]
  },
  {
   "cell_type": "code",
   "execution_count": 20,
   "id": "26dff4d0",
   "metadata": {},
   "outputs": [
    {
     "data": {
      "text/plain": [
       "0    4516\n",
       "1     653\n",
       "Name: target, dtype: int64"
      ]
     },
     "execution_count": 20,
     "metadata": {},
     "output_type": "execute_result"
    }
   ],
   "source": [
    "#checking the no. of ham and spam values\n",
    "df['target'].value_counts()"
   ]
  },
  {
   "cell_type": "code",
   "execution_count": 21,
   "id": "ba1add80",
   "metadata": {},
   "outputs": [
    {
     "data": {
      "image/png": "[encoded data removed]",
      "text/plain": [
       "<Figure size 432x288 with 1 Axes>"
      ]
     },
     "metadata": {},
     "output_type": "display_data"
    }
   ],
   "source": [
    "import matplotlib.pyplot as plt\n",
    "plt.pie(df['target'].value_counts(), labels=['ham', 'spam'], autopct=\"%0.2f\")\n",
    "plt.show()"
   ]
  },
  {
   "cell_type": "code",
   "execution_count": 22,
   "id": "44f07eb8",
   "metadata": {},
   "outputs": [
    {
     "name": "stdout",
     "output_type": "stream",
     "text": [
      "Requirement already satisfied: nltk in c:\\users\\hp\\anaconda3\\lib\\site-packages (3.7)\n",
      "Requirement already satisfied: click in c:\\users\\hp\\anaconda3\\lib\\site-packages (from nltk) (8.0.4)\n",
      "Requirement already satisfied: regex>=2021.8.3 in c:\\users\\hp\\anaconda3\\lib\\site-packages (from nltk) (2022.3.15)\n",
      "Requirement already satisfied: tqdm in c:\\users\\hp\\anaconda3\\lib\\site-packages (from nltk) (4.64.0)\n",
      "Requirement already satisfied: joblib in c:\\users\\hp\\anaconda3\\lib\\site-packages (from nltk) (1.3.1)\n",
      "Requirement already satisfied: colorama in c:\\users\\hp\\anaconda3\\lib\\site-packages (from click->nltk) (0.4.4)\n"
     ]
    }
   ],
   "source": [
    "!pip install nltk\n",
    "import nltk"
   ]
  },
  {
   "cell_type": "code",
   "execution_count": 23,
   "id": "1caf7c55",
   "metadata": {},
   "outputs": [
    {
     "name": "stderr",
     "output_type": "stream",
     "text": [
      "[nltk_data] Downloading package punkt to\n",
      "[nltk_data]     C:\\Users\\hp\\AppData\\Roaming\\nltk_data...\n",
      "[nltk_data]   Package punkt is already up-to-date!\n"
     ]
    },
    {
     "data": {
      "text/plain": [
       "True"
      ]
     },
     "execution_count": 23,
     "metadata": {},
     "output_type": "execute_result"
    }
   ],
   "source": [
    "nltk.download('punkt')"
   ]
  },
  {
   "cell_type": "code",
   "execution_count": 24,
   "id": "54e25221",
   "metadata": {},
   "outputs": [],
   "source": [
    "#adding a new column which say about number of characters in an SMS\n",
    "df['num_characters']=df['text'].apply(len)"
   ]
  },
  {
   "cell_type": "code",
   "execution_count": 25,
   "id": "69e471d5",
   "metadata": {},
   "outputs": [
    {
     "data": {
      "text/html": [
       "<div>\n",
       "<style scoped>\n",
       "    .dataframe tbody tr th:only-of-type {\n",
       "        vertical-align: middle;\n",
       "    }\n",
       "\n",
       "    .dataframe tbody tr th {\n",
       "        vertical-align: top;\n",
       "    }\n",
       "\n",
       "    .dataframe thead th {\n",
       "        text-align: right;\n",
       "    }\n",
       "</style>\n",
       "<table border=\"1\" class=\"dataframe\">\n",
       "  <thead>\n",
       "    <tr style=\"text-align: right;\">\n",
       "      <th></th>\n",
       "      <th>target</th>\n",
       "      <th>text</th>\n",
       "      <th>num_characters</th>\n",
       "    </tr>\n",
       "  </thead>\n",
       "  <tbody>\n",
       "    <tr>\n",
       "      <th>0</th>\n",
       "      <td>0</td>\n",
       "      <td>Go until jurong point, crazy.. Available only ...</td>\n",
       "      <td>111</td>\n",
       "    </tr>\n",
       "    <tr>\n",
       "      <th>1</th>\n",
       "      <td>0</td>\n",
       "      <td>Ok lar... Joking wif u oni...</td>\n",
       "      <td>29</td>\n",
       "    </tr>\n",
       "    <tr>\n",
       "      <th>2</th>\n",
       "      <td>1</td>\n",
       "      <td>Free entry in 2 a wkly comp to win FA Cup fina...</td>\n",
       "      <td>155</td>\n",
       "    </tr>\n",
       "    <tr>\n",
       "      <th>3</th>\n",
       "      <td>0</td>\n",
       "      <td>U dun say so early hor... U c already then say...</td>\n",
       "      <td>49</td>\n",
       "    </tr>\n",
       "    <tr>\n",
       "      <th>4</th>\n",
       "      <td>0</td>\n",
       "      <td>Nah I don't think he goes to usf, he lives aro...</td>\n",
       "      <td>61</td>\n",
       "    </tr>\n",
       "  </tbody>\n",
       "</table>\n",
       "</div>"
      ],
      "text/plain": [
       "   target                                               text  num_characters\n",
       "0       0  Go until jurong point, crazy.. Available only ...             111\n",
       "1       0                      Ok lar... Joking wif u oni...              29\n",
       "2       1  Free entry in 2 a wkly comp to win FA Cup fina...             155\n",
       "3       0  U dun say so early hor... U c already then say...              49\n",
       "4       0  Nah I don't think he goes to usf, he lives aro...              61"
      ]
     },
     "execution_count": 25,
     "metadata": {},
     "output_type": "execute_result"
    }
   ],
   "source": [
    "df.head()"
   ]
  },
  {
   "cell_type": "code",
   "execution_count": 26,
   "id": "4d2bb30c",
   "metadata": {},
   "outputs": [
    {
     "data": {
      "text/plain": [
       "0       24\n",
       "1        8\n",
       "2       37\n",
       "3       13\n",
       "4       15\n",
       "        ..\n",
       "5567    35\n",
       "5568     9\n",
       "5569    15\n",
       "5570    27\n",
       "5571     7\n",
       "Name: text, Length: 5169, dtype: int64"
      ]
     },
     "execution_count": 26,
     "metadata": {},
     "output_type": "execute_result"
    }
   ],
   "source": [
    "#breaking down the SMS into words and counting the no. of words\n",
    "df['text'].apply(lambda x:len(nltk.word_tokenize(x)))"
   ]
  },
  {
   "cell_type": "code",
   "execution_count": 27,
   "id": "f0c17da4",
   "metadata": {},
   "outputs": [],
   "source": [
    "#adding a new column which says about number of words in an SMS\n",
    "df['num_words']=df['text'].apply(lambda x:len(nltk.word_tokenize(x)))"
   ]
  },
  {
   "cell_type": "code",
   "execution_count": 28,
   "id": "68afd40b",
   "metadata": {},
   "outputs": [
    {
     "data": {
      "text/plain": [
       "0       2\n",
       "1       2\n",
       "2       2\n",
       "3       1\n",
       "4       1\n",
       "       ..\n",
       "5567    4\n",
       "5568    1\n",
       "5569    2\n",
       "5570    1\n",
       "5571    2\n",
       "Name: text, Length: 5169, dtype: int64"
      ]
     },
     "execution_count": 28,
     "metadata": {},
     "output_type": "execute_result"
    }
   ],
   "source": [
    "#breaking down the SMS into words and counting the no. of sentences\n",
    "df['text'].apply(lambda x:len(nltk.sent_tokenize(x)))"
   ]
  },
  {
   "cell_type": "code",
   "execution_count": 29,
   "id": "e751ea80",
   "metadata": {},
   "outputs": [],
   "source": [
    "#adding a new column which says about number of sentences in an SMS\n",
    "df['num_sentences']=df['text'].apply(lambda x:len(nltk.sent_tokenize(x)))"
   ]
  },
  {
   "cell_type": "code",
   "execution_count": 30,
   "id": "348c92be",
   "metadata": {},
   "outputs": [
    {
     "data": {
      "text/html": [
       "<div>\n",
       "<style scoped>\n",
       "    .dataframe tbody tr th:only-of-type {\n",
       "        vertical-align: middle;\n",
       "    }\n",
       "\n",
       "    .dataframe tbody tr th {\n",
       "        vertical-align: top;\n",
       "    }\n",
       "\n",
       "    .dataframe thead th {\n",
       "        text-align: right;\n",
       "    }\n",
       "</style>\n",
       "<table border=\"1\" class=\"dataframe\">\n",
       "  <thead>\n",
       "    <tr style=\"text-align: right;\">\n",
       "      <th></th>\n",
       "      <th>target</th>\n",
       "      <th>text</th>\n",
       "      <th>num_characters</th>\n",
       "      <th>num_words</th>\n",
       "      <th>num_sentences</th>\n",
       "    </tr>\n",
       "  </thead>\n",
       "  <tbody>\n",
       "    <tr>\n",
       "      <th>0</th>\n",
       "      <td>0</td>\n",
       "      <td>Go until jurong point, crazy.. Available only ...</td>\n",
       "      <td>111</td>\n",
       "      <td>24</td>\n",
       "      <td>2</td>\n",
       "    </tr>\n",
       "    <tr>\n",
       "      <th>1</th>\n",
       "      <td>0</td>\n",
       "      <td>Ok lar... Joking wif u oni...</td>\n",
       "      <td>29</td>\n",
       "      <td>8</td>\n",
       "      <td>2</td>\n",
       "    </tr>\n",
       "    <tr>\n",
       "      <th>2</th>\n",
       "      <td>1</td>\n",
       "      <td>Free entry in 2 a wkly comp to win FA Cup fina...</td>\n",
       "      <td>155</td>\n",
       "      <td>37</td>\n",
       "      <td>2</td>\n",
       "    </tr>\n",
       "    <tr>\n",
       "      <th>3</th>\n",
       "      <td>0</td>\n",
       "      <td>U dun say so early hor... U c already then say...</td>\n",
       "      <td>49</td>\n",
       "      <td>13</td>\n",
       "      <td>1</td>\n",
       "    </tr>\n",
       "    <tr>\n",
       "      <th>4</th>\n",
       "      <td>0</td>\n",
       "      <td>Nah I don't think he goes to usf, he lives aro...</td>\n",
       "      <td>61</td>\n",
       "      <td>15</td>\n",
       "      <td>1</td>\n",
       "    </tr>\n",
       "  </tbody>\n",
       "</table>\n",
       "</div>"
      ],
      "text/plain": [
       "   target                                               text  num_characters  \\\n",
       "0       0  Go until jurong point, crazy.. Available only ...             111   \n",
       "1       0                      Ok lar... Joking wif u oni...              29   \n",
       "2       1  Free entry in 2 a wkly comp to win FA Cup fina...             155   \n",
       "3       0  U dun say so early hor... U c already then say...              49   \n",
       "4       0  Nah I don't think he goes to usf, he lives aro...              61   \n",
       "\n",
       "   num_words  num_sentences  \n",
       "0         24              2  \n",
       "1          8              2  \n",
       "2         37              2  \n",
       "3         13              1  \n",
       "4         15              1  "
      ]
     },
     "execution_count": 30,
     "metadata": {},
     "output_type": "execute_result"
    }
   ],
   "source": [
    "df.head()"
   ]
  },
  {
   "cell_type": "code",
   "execution_count": 31,
   "id": "891e9d96",
   "metadata": {},
   "outputs": [
    {
     "data": {
      "text/html": [
       "<div>\n",
       "<style scoped>\n",
       "    .dataframe tbody tr th:only-of-type {\n",
       "        vertical-align: middle;\n",
       "    }\n",
       "\n",
       "    .dataframe tbody tr th {\n",
       "        vertical-align: top;\n",
       "    }\n",
       "\n",
       "    .dataframe thead th {\n",
       "        text-align: right;\n",
       "    }\n",
       "</style>\n",
       "<table border=\"1\" class=\"dataframe\">\n",
       "  <thead>\n",
       "    <tr style=\"text-align: right;\">\n",
       "      <th></th>\n",
       "      <th>num_characters</th>\n",
       "      <th>num_words</th>\n",
       "      <th>num_sentences</th>\n",
       "    </tr>\n",
       "  </thead>\n",
       "  <tbody>\n",
       "    <tr>\n",
       "      <th>count</th>\n",
       "      <td>5169.000000</td>\n",
       "      <td>5169.000000</td>\n",
       "      <td>5169.000000</td>\n",
       "    </tr>\n",
       "    <tr>\n",
       "      <th>mean</th>\n",
       "      <td>78.977945</td>\n",
       "      <td>18.453279</td>\n",
       "      <td>1.947185</td>\n",
       "    </tr>\n",
       "    <tr>\n",
       "      <th>std</th>\n",
       "      <td>58.236293</td>\n",
       "      <td>13.324793</td>\n",
       "      <td>1.362406</td>\n",
       "    </tr>\n",
       "    <tr>\n",
       "      <th>min</th>\n",
       "      <td>2.000000</td>\n",
       "      <td>1.000000</td>\n",
       "      <td>1.000000</td>\n",
       "    </tr>\n",
       "    <tr>\n",
       "      <th>25%</th>\n",
       "      <td>36.000000</td>\n",
       "      <td>9.000000</td>\n",
       "      <td>1.000000</td>\n",
       "    </tr>\n",
       "    <tr>\n",
       "      <th>50%</th>\n",
       "      <td>60.000000</td>\n",
       "      <td>15.000000</td>\n",
       "      <td>1.000000</td>\n",
       "    </tr>\n",
       "    <tr>\n",
       "      <th>75%</th>\n",
       "      <td>117.000000</td>\n",
       "      <td>26.000000</td>\n",
       "      <td>2.000000</td>\n",
       "    </tr>\n",
       "    <tr>\n",
       "      <th>max</th>\n",
       "      <td>910.000000</td>\n",
       "      <td>220.000000</td>\n",
       "      <td>28.000000</td>\n",
       "    </tr>\n",
       "  </tbody>\n",
       "</table>\n",
       "</div>"
      ],
      "text/plain": [
       "       num_characters    num_words  num_sentences\n",
       "count     5169.000000  5169.000000    5169.000000\n",
       "mean        78.977945    18.453279       1.947185\n",
       "std         58.236293    13.324793       1.362406\n",
       "min          2.000000     1.000000       1.000000\n",
       "25%         36.000000     9.000000       1.000000\n",
       "50%         60.000000    15.000000       1.000000\n",
       "75%        117.000000    26.000000       2.000000\n",
       "max        910.000000   220.000000      28.000000"
      ]
     },
     "execution_count": 31,
     "metadata": {},
     "output_type": "execute_result"
    }
   ],
   "source": [
    "df[['num_characters', 'num_words', 'num_sentences']].describe()"
   ]
  },
  {
   "cell_type": "code",
   "execution_count": 32,
   "id": "e37c7000",
   "metadata": {},
   "outputs": [
    {
     "data": {
      "text/html": [
       "<div>\n",
       "<style scoped>\n",
       "    .dataframe tbody tr th:only-of-type {\n",
       "        vertical-align: middle;\n",
       "    }\n",
       "\n",
       "    .dataframe tbody tr th {\n",
       "        vertical-align: top;\n",
       "    }\n",
       "\n",
       "    .dataframe thead th {\n",
       "        text-align: right;\n",
       "    }\n",
       "</style>\n",
       "<table border=\"1\" class=\"dataframe\">\n",
       "  <thead>\n",
       "    <tr style=\"text-align: right;\">\n",
       "      <th></th>\n",
       "      <th>num_characters</th>\n",
       "      <th>num_words</th>\n",
       "      <th>num_sentences</th>\n",
       "    </tr>\n",
       "  </thead>\n",
       "  <tbody>\n",
       "    <tr>\n",
       "      <th>count</th>\n",
       "      <td>4516.000000</td>\n",
       "      <td>4516.000000</td>\n",
       "      <td>4516.000000</td>\n",
       "    </tr>\n",
       "    <tr>\n",
       "      <th>mean</th>\n",
       "      <td>70.459256</td>\n",
       "      <td>17.120903</td>\n",
       "      <td>1.799601</td>\n",
       "    </tr>\n",
       "    <tr>\n",
       "      <th>std</th>\n",
       "      <td>56.358207</td>\n",
       "      <td>13.493725</td>\n",
       "      <td>1.278465</td>\n",
       "    </tr>\n",
       "    <tr>\n",
       "      <th>min</th>\n",
       "      <td>2.000000</td>\n",
       "      <td>1.000000</td>\n",
       "      <td>1.000000</td>\n",
       "    </tr>\n",
       "    <tr>\n",
       "      <th>25%</th>\n",
       "      <td>34.000000</td>\n",
       "      <td>8.000000</td>\n",
       "      <td>1.000000</td>\n",
       "    </tr>\n",
       "    <tr>\n",
       "      <th>50%</th>\n",
       "      <td>52.000000</td>\n",
       "      <td>13.000000</td>\n",
       "      <td>1.000000</td>\n",
       "    </tr>\n",
       "    <tr>\n",
       "      <th>75%</th>\n",
       "      <td>90.000000</td>\n",
       "      <td>22.000000</td>\n",
       "      <td>2.000000</td>\n",
       "    </tr>\n",
       "    <tr>\n",
       "      <th>max</th>\n",
       "      <td>910.000000</td>\n",
       "      <td>220.000000</td>\n",
       "      <td>28.000000</td>\n",
       "    </tr>\n",
       "  </tbody>\n",
       "</table>\n",
       "</div>"
      ],
      "text/plain": [
       "       num_characters    num_words  num_sentences\n",
       "count     4516.000000  4516.000000    4516.000000\n",
       "mean        70.459256    17.120903       1.799601\n",
       "std         56.358207    13.493725       1.278465\n",
       "min          2.000000     1.000000       1.000000\n",
       "25%         34.000000     8.000000       1.000000\n",
       "50%         52.000000    13.000000       1.000000\n",
       "75%         90.000000    22.000000       2.000000\n",
       "max        910.000000   220.000000      28.000000"
      ]
     },
     "execution_count": 32,
     "metadata": {},
     "output_type": "execute_result"
    }
   ],
   "source": [
    "#analysing ham messages\n",
    "df[df['target']==0][['num_characters', 'num_words', 'num_sentences']].describe()"
   ]
  },
  {
   "cell_type": "code",
   "execution_count": 33,
   "id": "12d2e175",
   "metadata": {},
   "outputs": [
    {
     "data": {
      "text/html": [
       "<div>\n",
       "<style scoped>\n",
       "    .dataframe tbody tr th:only-of-type {\n",
       "        vertical-align: middle;\n",
       "    }\n",
       "\n",
       "    .dataframe tbody tr th {\n",
       "        vertical-align: top;\n",
       "    }\n",
       "\n",
       "    .dataframe thead th {\n",
       "        text-align: right;\n",
       "    }\n",
       "</style>\n",
       "<table border=\"1\" class=\"dataframe\">\n",
       "  <thead>\n",
       "    <tr style=\"text-align: right;\">\n",
       "      <th></th>\n",
       "      <th>num_characters</th>\n",
       "      <th>num_words</th>\n",
       "      <th>num_sentences</th>\n",
       "    </tr>\n",
       "  </thead>\n",
       "  <tbody>\n",
       "    <tr>\n",
       "      <th>count</th>\n",
       "      <td>653.000000</td>\n",
       "      <td>653.000000</td>\n",
       "      <td>653.000000</td>\n",
       "    </tr>\n",
       "    <tr>\n",
       "      <th>mean</th>\n",
       "      <td>137.891271</td>\n",
       "      <td>27.667688</td>\n",
       "      <td>2.967841</td>\n",
       "    </tr>\n",
       "    <tr>\n",
       "      <th>std</th>\n",
       "      <td>30.137753</td>\n",
       "      <td>7.008418</td>\n",
       "      <td>1.483201</td>\n",
       "    </tr>\n",
       "    <tr>\n",
       "      <th>min</th>\n",
       "      <td>13.000000</td>\n",
       "      <td>2.000000</td>\n",
       "      <td>1.000000</td>\n",
       "    </tr>\n",
       "    <tr>\n",
       "      <th>25%</th>\n",
       "      <td>132.000000</td>\n",
       "      <td>25.000000</td>\n",
       "      <td>2.000000</td>\n",
       "    </tr>\n",
       "    <tr>\n",
       "      <th>50%</th>\n",
       "      <td>149.000000</td>\n",
       "      <td>29.000000</td>\n",
       "      <td>3.000000</td>\n",
       "    </tr>\n",
       "    <tr>\n",
       "      <th>75%</th>\n",
       "      <td>157.000000</td>\n",
       "      <td>32.000000</td>\n",
       "      <td>4.000000</td>\n",
       "    </tr>\n",
       "    <tr>\n",
       "      <th>max</th>\n",
       "      <td>224.000000</td>\n",
       "      <td>46.000000</td>\n",
       "      <td>8.000000</td>\n",
       "    </tr>\n",
       "  </tbody>\n",
       "</table>\n",
       "</div>"
      ],
      "text/plain": [
       "       num_characters   num_words  num_sentences\n",
       "count      653.000000  653.000000     653.000000\n",
       "mean       137.891271   27.667688       2.967841\n",
       "std         30.137753    7.008418       1.483201\n",
       "min         13.000000    2.000000       1.000000\n",
       "25%        132.000000   25.000000       2.000000\n",
       "50%        149.000000   29.000000       3.000000\n",
       "75%        157.000000   32.000000       4.000000\n",
       "max        224.000000   46.000000       8.000000"
      ]
     },
     "execution_count": 33,
     "metadata": {},
     "output_type": "execute_result"
    }
   ],
   "source": [
    "#analysing spam messages\n",
    "df[df['target']==1][['num_characters', 'num_words', 'num_sentences']].describe()"
   ]
  },
  {
   "cell_type": "code",
   "execution_count": 34,
   "id": "0234e3ea",
   "metadata": {},
   "outputs": [],
   "source": [
    "import seaborn as sns"
   ]
  },
  {
   "cell_type": "code",
   "execution_count": 35,
   "id": "a0e75de6",
   "metadata": {},
   "outputs": [
    {
     "data": {
      "text/plain": [
       "<AxesSubplot:xlabel='num_characters', ylabel='Count'>"
      ]
     },
     "execution_count": 35,
     "metadata": {},
     "output_type": "execute_result"
    },
    {
     "data": {
      "image/png": "[encoded data removed]",
      "text/plain": [
       "<Figure size 864x576 with 1 Axes>"
      ]
     },
     "metadata": {
      "needs_background": "light"
     },
     "output_type": "display_data"
    }
   ],
   "source": [
    "#histogram plot for no. of characters in ham and spam messages\n",
    "plt.figure(figsize=(12,8))\n",
    "sns.histplot(df[df['target']==0]['num_characters'], color='blue')\n",
    "sns.histplot(df[df['target']==1]['num_characters'], color='red')"
   ]
  },
  {
   "cell_type": "code",
   "execution_count": 36,
   "id": "6e721172",
   "metadata": {},
   "outputs": [
    {
     "data": {
      "text/plain": [
       "<AxesSubplot:xlabel='num_words', ylabel='Count'>"
      ]
     },
     "execution_count": 36,
     "metadata": {},
     "output_type": "execute_result"
    },
    {
     "data": {
      "image/png": "[encoded data removed]",
      "text/plain": [
       "<Figure size 864x576 with 1 Axes>"
      ]
     },
     "metadata": {
      "needs_background": "light"
     },
     "output_type": "display_data"
    }
   ],
   "source": [
    "#histogram plot for no. of words in ham and spam messages\n",
    "plt.figure(figsize=(12,8))\n",
    "sns.histplot(df[df['target']==0]['num_words'], color='blue')\n",
    "sns.histplot(df[df['target']==1]['num_words'], color='red')"
   ]
  },
  {
   "cell_type": "code",
   "execution_count": 37,
   "id": "49b2a4c4",
   "metadata": {},
   "outputs": [
    {
     "data": {
      "text/plain": [
       "<AxesSubplot:xlabel='num_sentences', ylabel='Count'>"
      ]
     },
     "execution_count": 37,
     "metadata": {},
     "output_type": "execute_result"
    },
    {
     "data": {
      "image/png": "[encoded data removed]",
      "text/plain": [
       "<Figure size 864x576 with 1 Axes>"
      ]
     },
     "metadata": {
      "needs_background": "light"
     },
     "output_type": "display_data"
    }
   ],
   "source": [
    "#histogram plot for no. of sentences in ham and spam messages\n",
    "plt.figure(figsize=(12,8))\n",
    "sns.histplot(df[df['target']==0]['num_sentences'], color='blue')\n",
    "sns.histplot(df[df['target']==1]['num_sentences'], color='red')"
   ]
  },
  {
   "cell_type": "code",
   "execution_count": 38,
   "id": "5c555b2b",
   "metadata": {},
   "outputs": [
    {
     "data": {
      "text/plain": [
       "<seaborn.axisgrid.PairGrid at 0x23b2ab34910>"
      ]
     },
     "execution_count": 38,
     "metadata": {},
     "output_type": "execute_result"
    },
    {
     "data": {
      "image/png": "[encoded data removed]",
      "text/plain": [
       "<Figure size 582.375x540 with 12 Axes>"
      ]
     },
     "metadata": {
      "needs_background": "light"
     },
     "output_type": "display_data"
    }
   ],
   "source": [
    "sns.pairplot(df, hue='target')"
   ]
  },
  {
   "cell_type": "code",
   "execution_count": 39,
   "id": "d35df5c3",
   "metadata": {},
   "outputs": [
    {
     "data": {
      "text/plain": [
       "<AxesSubplot:>"
      ]
     },
     "execution_count": 39,
     "metadata": {},
     "output_type": "execute_result"
    },
    {
     "data": {
      "image/png": "[encoded data removed]",
      "text/plain": [
       "<Figure size 432x288 with 2 Axes>"
      ]
     },
     "metadata": {
      "needs_background": "light"
     },
     "output_type": "display_data"
    }
   ],
   "source": [
    "sns.heatmap(df.corr(), annot=True)"
   ]
  },
  {
   "cell_type": "markdown",
   "id": "77d0255b",
   "metadata": {},
   "source": [
    "On analysing the data, it is clear that spam messages have more number of characters, words and sentences when compared with ham messages\n",
    "\n",
    "As the correlation between num_characters, num_words, num_sentences is more, we are retaining only num_characters and removing the remaining two columns"
   ]
  },
  {
   "cell_type": "markdown",
   "id": "6373fec1",
   "metadata": {},
   "source": [
    "## 3. Data Preprocessing"
   ]
  },
  {
   "cell_type": "code",
   "execution_count": 40,
   "id": "e684c15a",
   "metadata": {},
   "outputs": [],
   "source": [
    "import nltk"
   ]
  },
  {
   "cell_type": "code",
   "execution_count": 41,
   "id": "be18c3d0",
   "metadata": {},
   "outputs": [
    {
     "name": "stderr",
     "output_type": "stream",
     "text": [
      "[nltk_data] Downloading package stopwords to\n",
      "[nltk_data]     C:\\Users\\hp\\AppData\\Roaming\\nltk_data...\n",
      "[nltk_data]   Package stopwords is already up-to-date!\n"
     ]
    },
    {
     "data": {
      "text/plain": [
       "True"
      ]
     },
     "execution_count": 41,
     "metadata": {},
     "output_type": "execute_result"
    }
   ],
   "source": [
    "nltk.download('stopwords')"
   ]
  },
  {
   "cell_type": "code",
   "execution_count": 42,
   "id": "65343ca7",
   "metadata": {},
   "outputs": [
    {
     "data": {
      "text/plain": [
       "['i',\n",
       " 'me',\n",
       " 'my',\n",
       " 'myself',\n",
       " 'we',\n",
       " 'our',\n",
       " 'ours',\n",
       " 'ourselves',\n",
       " 'you',\n",
       " \"you're\",\n",
       " \"you've\",\n",
       " \"you'll\",\n",
       " \"you'd\",\n",
       " 'your',\n",
       " 'yours',\n",
       " 'yourself',\n",
       " 'yourselves',\n",
       " 'he',\n",
       " 'him',\n",
       " 'his',\n",
       " 'himself',\n",
       " 'she',\n",
       " \"she's\",\n",
       " 'her',\n",
       " 'hers',\n",
       " 'herself',\n",
       " 'it',\n",
       " \"it's\",\n",
       " 'its',\n",
       " 'itself',\n",
       " 'they',\n",
       " 'them',\n",
       " 'their',\n",
       " 'theirs',\n",
       " 'themselves',\n",
       " 'what',\n",
       " 'which',\n",
       " 'who',\n",
       " 'whom',\n",
       " 'this',\n",
       " 'that',\n",
       " \"that'll\",\n",
       " 'these',\n",
       " 'those',\n",
       " 'am',\n",
       " 'is',\n",
       " 'are',\n",
       " 'was',\n",
       " 'were',\n",
       " 'be',\n",
       " 'been',\n",
       " 'being',\n",
       " 'have',\n",
       " 'has',\n",
       " 'had',\n",
       " 'having',\n",
       " 'do',\n",
       " 'does',\n",
       " 'did',\n",
       " 'doing',\n",
       " 'a',\n",
       " 'an',\n",
       " 'the',\n",
       " 'and',\n",
       " 'but',\n",
       " 'if',\n",
       " 'or',\n",
       " 'because',\n",
       " 'as',\n",
       " 'until',\n",
       " 'while',\n",
       " 'of',\n",
       " 'at',\n",
       " 'by',\n",
       " 'for',\n",
       " 'with',\n",
       " 'about',\n",
       " 'against',\n",
       " 'between',\n",
       " 'into',\n",
       " 'through',\n",
       " 'during',\n",
       " 'before',\n",
       " 'after',\n",
       " 'above',\n",
       " 'below',\n",
       " 'to',\n",
       " 'from',\n",
       " 'up',\n",
       " 'down',\n",
       " 'in',\n",
       " 'out',\n",
       " 'on',\n",
       " 'off',\n",
       " 'over',\n",
       " 'under',\n",
       " 'again',\n",
       " 'further',\n",
       " 'then',\n",
       " 'once',\n",
       " 'here',\n",
       " 'there',\n",
       " 'when',\n",
       " 'where',\n",
       " 'why',\n",
       " 'how',\n",
       " 'all',\n",
       " 'any',\n",
       " 'both',\n",
       " 'each',\n",
       " 'few',\n",
       " 'more',\n",
       " 'most',\n",
       " 'other',\n",
       " 'some',\n",
       " 'such',\n",
       " 'no',\n",
       " 'nor',\n",
       " 'not',\n",
       " 'only',\n",
       " 'own',\n",
       " 'same',\n",
       " 'so',\n",
       " 'than',\n",
       " 'too',\n",
       " 'very',\n",
       " 's',\n",
       " 't',\n",
       " 'can',\n",
       " 'will',\n",
       " 'just',\n",
       " 'don',\n",
       " \"don't\",\n",
       " 'should',\n",
       " \"should've\",\n",
       " 'now',\n",
       " 'd',\n",
       " 'll',\n",
       " 'm',\n",
       " 'o',\n",
       " 're',\n",
       " 've',\n",
       " 'y',\n",
       " 'ain',\n",
       " 'aren',\n",
       " \"aren't\",\n",
       " 'couldn',\n",
       " \"couldn't\",\n",
       " 'didn',\n",
       " \"didn't\",\n",
       " 'doesn',\n",
       " \"doesn't\",\n",
       " 'hadn',\n",
       " \"hadn't\",\n",
       " 'hasn',\n",
       " \"hasn't\",\n",
       " 'haven',\n",
       " \"haven't\",\n",
       " 'isn',\n",
       " \"isn't\",\n",
       " 'ma',\n",
       " 'mightn',\n",
       " \"mightn't\",\n",
       " 'mustn',\n",
       " \"mustn't\",\n",
       " 'needn',\n",
       " \"needn't\",\n",
       " 'shan',\n",
       " \"shan't\",\n",
       " 'shouldn',\n",
       " \"shouldn't\",\n",
       " 'wasn',\n",
       " \"wasn't\",\n",
       " 'weren',\n",
       " \"weren't\",\n",
       " 'won',\n",
       " \"won't\",\n",
       " 'wouldn',\n",
       " \"wouldn't\"]"
      ]
     },
     "execution_count": 42,
     "metadata": {},
     "output_type": "execute_result"
    }
   ],
   "source": [
    "from nltk.corpus import stopwords\n",
    "stopwords.words('english')"
   ]
  },
  {
   "cell_type": "code",
   "execution_count": 43,
   "id": "8e769964",
   "metadata": {},
   "outputs": [
    {
     "data": {
      "text/plain": [
       "'!\"#$%&\\'()*+,-./:;<=>?@[\\\\]^_`{|}~'"
      ]
     },
     "execution_count": 43,
     "metadata": {},
     "output_type": "execute_result"
    }
   ],
   "source": [
    "import string\n",
    "string.punctuation"
   ]
  },
  {
   "cell_type": "code",
   "execution_count": 44,
   "id": "285accf7",
   "metadata": {},
   "outputs": [],
   "source": [
    "from nltk.stem.porter import PorterStemmer\n",
    "ps=PorterStemmer()"
   ]
  },
  {
   "cell_type": "code",
   "execution_count": 45,
   "id": "bad62cbf",
   "metadata": {},
   "outputs": [],
   "source": [
    "def transform_text(text):\n",
    "    text=text.lower() #returns the text by converting all the letters to lowercase\n",
    "    text=nltk.word_tokenize(text) #returns the list of words in SMS\n",
    "    \n",
    "    #removing the special characters\n",
    "    y=[]\n",
    "    for i in text:\n",
    "        if i.isalnum():\n",
    "            y.append(i)\n",
    "    \n",
    "    text=y.copy()\n",
    "    y.clear()\n",
    "    \n",
    "    for i in text:\n",
    "        if i not in stopwords.words('english') and i not in string.punctuation:\n",
    "            y.append(i)\n",
    "            \n",
    "    text=y.copy()\n",
    "    y.clear()\n",
    "    \n",
    "    for i in text:\n",
    "        y.append(ps.stem(i))\n",
    "            \n",
    "    return \" \".join(y)"
   ]
  },
  {
   "cell_type": "code",
   "execution_count": 46,
   "id": "ce0c92c3",
   "metadata": {},
   "outputs": [
    {
     "data": {
      "text/plain": [
       "0       go jurong point crazi avail bugi n great world...\n",
       "1                                   ok lar joke wif u oni\n",
       "2       free entri 2 wkli comp win fa cup final tkt 21...\n",
       "3                     u dun say earli hor u c alreadi say\n",
       "4                    nah think goe usf live around though\n",
       "                              ...                        \n",
       "5567    2nd time tri 2 contact u pound prize 2 claim e...\n",
       "5568                                b go esplanad fr home\n",
       "5569                                    piti mood suggest\n",
       "5570    guy bitch act like interest buy someth els nex...\n",
       "5571                                       rofl true name\n",
       "Name: text, Length: 5169, dtype: object"
      ]
     },
     "execution_count": 46,
     "metadata": {},
     "output_type": "execute_result"
    }
   ],
   "source": [
    "df['text'].apply(transform_text)"
   ]
  },
  {
   "cell_type": "code",
   "execution_count": 47,
   "id": "979fcbf4",
   "metadata": {},
   "outputs": [],
   "source": [
    "df['transformed_text']=df['text'].apply(transform_text)"
   ]
  },
  {
   "cell_type": "code",
   "execution_count": 48,
   "id": "bcc1144e",
   "metadata": {
    "scrolled": true
   },
   "outputs": [
    {
     "data": {
      "text/html": [
       "<div>\n",
       "<style scoped>\n",
       "    .dataframe tbody tr th:only-of-type {\n",
       "        vertical-align: middle;\n",
       "    }\n",
       "\n",
       "    .dataframe tbody tr th {\n",
       "        vertical-align: top;\n",
       "    }\n",
       "\n",
       "    .dataframe thead th {\n",
       "        text-align: right;\n",
       "    }\n",
       "</style>\n",
       "<table border=\"1\" class=\"dataframe\">\n",
       "  <thead>\n",
       "    <tr style=\"text-align: right;\">\n",
       "      <th></th>\n",
       "      <th>target</th>\n",
       "      <th>text</th>\n",
       "      <th>num_characters</th>\n",
       "      <th>num_words</th>\n",
       "      <th>num_sentences</th>\n",
       "      <th>transformed_text</th>\n",
       "    </tr>\n",
       "  </thead>\n",
       "  <tbody>\n",
       "    <tr>\n",
       "      <th>0</th>\n",
       "      <td>0</td>\n",
       "      <td>Go until jurong point, crazy.. Available only ...</td>\n",
       "      <td>111</td>\n",
       "      <td>24</td>\n",
       "      <td>2</td>\n",
       "      <td>go jurong point crazi avail bugi n great world...</td>\n",
       "    </tr>\n",
       "    <tr>\n",
       "      <th>1</th>\n",
       "      <td>0</td>\n",
       "      <td>Ok lar... Joking wif u oni...</td>\n",
       "      <td>29</td>\n",
       "      <td>8</td>\n",
       "      <td>2</td>\n",
       "      <td>ok lar joke wif u oni</td>\n",
       "    </tr>\n",
       "    <tr>\n",
       "      <th>2</th>\n",
       "      <td>1</td>\n",
       "      <td>Free entry in 2 a wkly comp to win FA Cup fina...</td>\n",
       "      <td>155</td>\n",
       "      <td>37</td>\n",
       "      <td>2</td>\n",
       "      <td>free entri 2 wkli comp win fa cup final tkt 21...</td>\n",
       "    </tr>\n",
       "    <tr>\n",
       "      <th>3</th>\n",
       "      <td>0</td>\n",
       "      <td>U dun say so early hor... U c already then say...</td>\n",
       "      <td>49</td>\n",
       "      <td>13</td>\n",
       "      <td>1</td>\n",
       "      <td>u dun say earli hor u c alreadi say</td>\n",
       "    </tr>\n",
       "    <tr>\n",
       "      <th>4</th>\n",
       "      <td>0</td>\n",
       "      <td>Nah I don't think he goes to usf, he lives aro...</td>\n",
       "      <td>61</td>\n",
       "      <td>15</td>\n",
       "      <td>1</td>\n",
       "      <td>nah think goe usf live around though</td>\n",
       "    </tr>\n",
       "  </tbody>\n",
       "</table>\n",
       "</div>"
      ],
      "text/plain": [
       "   target                                               text  num_characters  \\\n",
       "0       0  Go until jurong point, crazy.. Available only ...             111   \n",
       "1       0                      Ok lar... Joking wif u oni...              29   \n",
       "2       1  Free entry in 2 a wkly comp to win FA Cup fina...             155   \n",
       "3       0  U dun say so early hor... U c already then say...              49   \n",
       "4       0  Nah I don't think he goes to usf, he lives aro...              61   \n",
       "\n",
       "   num_words  num_sentences                                   transformed_text  \n",
       "0         24              2  go jurong point crazi avail bugi n great world...  \n",
       "1          8              2                              ok lar joke wif u oni  \n",
       "2         37              2  free entri 2 wkli comp win fa cup final tkt 21...  \n",
       "3         13              1                u dun say earli hor u c alreadi say  \n",
       "4         15              1               nah think goe usf live around though  "
      ]
     },
     "execution_count": 48,
     "metadata": {},
     "output_type": "execute_result"
    }
   ],
   "source": [
    "df.head()"
   ]
  },
  {
   "cell_type": "code",
   "execution_count": 49,
   "id": "6c9d088f",
   "metadata": {},
   "outputs": [
    {
     "name": "stdout",
     "output_type": "stream",
     "text": [
      "Requirement already satisfied: wordcloud in c:\\users\\hp\\anaconda3\\lib\\site-packages (1.9.2)\n",
      "Requirement already satisfied: matplotlib in c:\\users\\hp\\anaconda3\\lib\\site-packages (from wordcloud) (3.5.1)\n",
      "Requirement already satisfied: numpy>=1.6.1 in c:\\users\\hp\\anaconda3\\lib\\site-packages (from wordcloud) (1.21.5)\n",
      "Requirement already satisfied: pillow in c:\\users\\hp\\anaconda3\\lib\\site-packages (from wordcloud) (9.0.1)\n",
      "Requirement already satisfied: packaging>=20.0 in c:\\users\\hp\\anaconda3\\lib\\site-packages (from matplotlib->wordcloud) (21.3)\n",
      "Requirement already satisfied: python-dateutil>=2.7 in c:\\users\\hp\\anaconda3\\lib\\site-packages (from matplotlib->wordcloud) (2.8.2)\n",
      "Requirement already satisfied: pyparsing>=2.2.1 in c:\\users\\hp\\anaconda3\\lib\\site-packages (from matplotlib->wordcloud) (3.0.4)\n",
      "Requirement already satisfied: cycler>=0.10 in c:\\users\\hp\\anaconda3\\lib\\site-packages (from matplotlib->wordcloud) (0.11.0)\n",
      "Requirement already satisfied: fonttools>=4.22.0 in c:\\users\\hp\\anaconda3\\lib\\site-packages (from matplotlib->wordcloud) (4.25.0)\n",
      "Requirement already satisfied: kiwisolver>=1.0.1 in c:\\users\\hp\\anaconda3\\lib\\site-packages (from matplotlib->wordcloud) (1.3.2)\n",
      "Requirement already satisfied: six>=1.5 in c:\\users\\hp\\anaconda3\\lib\\site-packages (from python-dateutil>=2.7->matplotlib->wordcloud) (1.16.0)\n"
     ]
    }
   ],
   "source": [
    "!pip install wordcloud"
   ]
  },
  {
   "cell_type": "code",
   "execution_count": 50,
   "id": "4e4bf83b",
   "metadata": {},
   "outputs": [],
   "source": [
    "from wordcloud import WordCloud"
   ]
  },
  {
   "cell_type": "code",
   "execution_count": 51,
   "id": "199c6611",
   "metadata": {},
   "outputs": [
    {
     "data": {
      "text/plain": [
       "['free entri 2 wkli comp win fa cup final tkt 21st may text fa 87121 receiv entri question std txt rate c appli 08452810075over18',\n",
       " 'freemsg hey darl 3 week word back like fun still tb ok xxx std chg send rcv',\n",
       " 'winner valu network custom select receivea prize reward claim call claim code kl341 valid 12 hour',\n",
       " 'mobil 11 month u r entitl updat latest colour mobil camera free call mobil updat co free 08002986030',\n",
       " 'six chanc win cash 100 pound txt csh11 send cost 6day tsandc appli repli hl 4 info',\n",
       " 'urgent 1 week free membership prize jackpot txt word claim 81010 c lccltd pobox 4403ldnw1a7rw18',\n",
       " 'xxxmobilemovieclub use credit click wap link next txt messag click http',\n",
       " 'england v macedonia dont miss news txt ur nation team 87077 eg england 87077 tri wale scotland poboxox36504w45wq',\n",
       " 'thank subscript rington uk mobil charg pleas confirm repli ye repli charg',\n",
       " '07732584351 rodger burn msg tri call repli sm free nokia mobil free camcord pleas call 08000930705 deliveri tomorrow',\n",
       " 'sm ac sptv new jersey devil detroit red wing play ice hockey correct incorrect end repli end sptv',\n",
       " 'congrat 1 year special cinema pass 2 call 09061209465 c suprman v matrix3 starwars3 etc 4 free 150pm dont miss',\n",
       " 'valu custom pleas advis follow recent review mob award bonu prize call 09066364589',\n",
       " 'urgent ur award complimentari trip eurodisinc trav aco entry41 claim txt di 87121 morefrmmob shracomorsglsuplt 10 ls1 3aj',\n",
       " 'hear new come ken stuff',\n",
       " 'pleas call custom servic repres 0800 169 6031 guarante cash prize',\n",
       " 'free rington wait collect simpli text password 85069 verifi get usher britney fml',\n",
       " 'gent tri contact last weekend draw show prize guarante call claim code k52 valid 12hr 150ppm',\n",
       " 'winner u special select 2 receiv 4 holiday flight inc speak live oper 2 claim',\n",
       " 'privat 2004 account statement 07742676969 show 786 unredeem bonu point claim call 08719180248 identifi code 45239 expir',\n",
       " 'urgent mobil award bonu caller prize final tri contact u call landlin 09064019788 box42wr29c 150ppm',\n",
       " 'today voda number end 7548 select receiv 350 award match pleas call 08712300220 quot claim code 4041 standard rate app',\n",
       " 'sunshin quiz wkli q win top soni dvd player u know countri algarv txt ansr sp tyron',\n",
       " 'want 2 get laid tonight want real dog locat sent direct 2 ur mob join uk largest dog network bt txting gravel 69888 nt ec2a 150p',\n",
       " 'rcv msg chat svc free hardcor servic text go 69988 u get noth u must age verifi yr network tri',\n",
       " 'freemsg repli text randi sexi femal live local luv hear netcollex ltd 08700621170150p per msg repli stop end',\n",
       " 'custom servic annonc new year deliveri wait pleas call 07046744435 arrang deliveri',\n",
       " 'winner u special select 2 receiv cash 4 holiday flight inc speak live oper 2 claim 0871277810810',\n",
       " 'stop bootydeli invit friend repli see stop send stop frnd 62468',\n",
       " 'bangbab ur order way u receiv servic msg 2 download ur content u goto wap bangb tv ur mobil menu',\n",
       " 'urgent tri contact last weekend draw show prize guarante call claim code s89 valid 12hr',\n",
       " 'pleas call custom servic repres freephon 0808 145 4742 guarante cash prize',\n",
       " 'uniqu enough find 30th august',\n",
       " '500 new mobil 2004 must go txt nokia 89545 collect today 2optout',\n",
       " 'u meet ur dream partner soon ur career 2 flyng start 2 find free txt horo follow ur star sign horo ari',\n",
       " 'text meet someon sexi today u find date even flirt join 4 10p repli name age eg sam 25 18 recd thirtyeight penc',\n",
       " 'u 447801259231 secret admir look 2 make contact r reveal think ur 09058094597',\n",
       " 'congratul ur award 500 cd voucher 125gift guarante free entri 2 100 wkli draw txt music 87066 tnc',\n",
       " 'tri contact repli offer video handset 750 anytim network min unlimit text camcord repli call 08000930705',\n",
       " 'hey realli horni want chat see nake text hot 69698 text charg 150pm unsubscrib text stop 69698',\n",
       " 'ur rington servic chang 25 free credit go choos content stop txt club stop 87070 club4 po box1146 mk45 2wt',\n",
       " 'rington club get uk singl chart mobil week choos top qualiti rington messag free charg',\n",
       " 'hmv bonu special 500 pound genuin hmv voucher answer 4 easi question play send hmv 86688 info',\n",
       " 'custom may claim free camera phone upgrad pay go sim card loyalti call 0845 021 end c appli',\n",
       " 'sm ac blind date 4u rodds1 aberdeen unit kingdom check http sm blind date send hide',\n",
       " 'themob check newest select content game tone gossip babe sport keep mobil fit funki text wap 82468',\n",
       " 'think ur smart win week weekli quiz text play 85222 cs winnersclub po box 84 m26 3uz',\n",
       " 'decemb mobil entitl updat latest colour camera mobil free call mobil updat co free 08002986906',\n",
       " 'call germani 1 penc per minut call fix line via access number 0844 861 85 prepay direct access',\n",
       " 'valentin day special win quiz take partner trip lifetim send go 83600 rcvd',\n",
       " 'fanci shag txt xxuk suzi txt cost per msg tnc websit x',\n",
       " 'ur current 500 pound maxim ur send cash 86688 cc 08708800282',\n",
       " 'xma offer latest motorola sonyericsson nokia free bluetooth doubl min 1000 txt orang call mobileupd8 08000839402',\n",
       " 'discount code rp176781 stop messag repli stop custom servic 08717205546',\n",
       " 'thank rington order refer t91 charg gbp 4 per week unsubscrib anytim call custom servic 09057039994',\n",
       " 'doubl min txt 4 6month free bluetooth orang avail soni nokia motorola phone call mobileupd8 08000839402',\n",
       " '4mth half price orang line rental latest camera phone 4 free phone 11mth call mobilesdirect free 08000938767 updat or2stoptxt',\n",
       " 'free rington text first 87131 poli text get 87131 true tone help 0845 2814032 16 1st free tone txt stop',\n",
       " '100 date servic cal l 09064012103 box334sk38ch',\n",
       " 'free entri weekli competit text word win 80086 18 c',\n",
       " 'send logo 2 ur lover 2 name join heart txt love name1 name2 mobno eg love adam eve 07123456789 87077 yahoo pobox36504w45wq txtno 4 ad 150p',\n",
       " 'someon contact date servic enter phone fanci find call landlin 09111032124 pobox12n146tf150p',\n",
       " 'urgent mobil number award prize guarante call 09058094455 land line claim valid 12hr',\n",
       " 'congrat nokia 3650 video camera phone call 09066382422 call cost 150ppm ave call 3min vari mobil close 300603 post bcm4284 ldn wc1n3xx',\n",
       " 'loan purpos homeown tenant welcom previous refus still help call free 0800 1956669 text back',\n",
       " 'upgrdcentr orang custom may claim free camera phone upgrad loyalti call 0207 153 offer end 26th juli c appli avail',\n",
       " 'okmail dear dave final notic collect 4 tenerif holiday 5000 cash award call 09061743806 landlin tc sae box326 cw25wx 150ppm',\n",
       " 'want 2 get laid tonight want real dog locat sent direct 2 ur mob join uk largest dog network txting moan 69888nyt ec2a 150p',\n",
       " 'free messag activ 500 free text messag repli messag word free term condit visit',\n",
       " 'congrat 1 year special cinema pass 2 call 09061209465 c suprman v matrix3 starwars3 etc 4 free 150pm dont miss',\n",
       " 'congratul week competit draw u prize claim call 09050002311 b4280703 sm 18 150ppm',\n",
       " 'guarante latest nokia phone 40gb ipod mp3 player prize txt word collect 83355 ibhltd ldnw15h',\n",
       " 'boltblu tone 150p repli poli mono eg poly3 cha cha slide yeah slow jamz toxic come stop 4 tone txt',\n",
       " 'credit top http renew pin tgxxrz',\n",
       " 'urgent mobil award bonu caller prize 2nd attempt contact call box95qu',\n",
       " 'today offer claim ur worth discount voucher text ye 85023 savamob member offer mobil cs sub 16 unsub repli x',\n",
       " 'reciev tone within next 24hr term condit pleas see channel u teletext pg 750',\n",
       " 'privat 2003 account statement 07815296484 show 800 point call 08718738001 identifi code 41782 expir',\n",
       " 'monthlysubscript csc web age16 2stop txt stop',\n",
       " 'gent tri contact last weekend draw show prize guarante call claim code k52 valid 12hr 150ppm',\n",
       " 'cash prize claim call09050000327',\n",
       " 'mobil number claim call us back ring claim hot line 09050005321',\n",
       " 'tri contact repli offer 750 min 150 textand new video phone call 08002988890 repli free deliveri tomorrow',\n",
       " 'ur chanc win wkli shop spree txt shop c custcar 08715705022',\n",
       " 'special select receiv 2000 pound award call 08712402050 line close cost 10ppm cs appli ag promo',\n",
       " 'privat 2003 account statement 07753741225 show 800 point call 08715203677 identifi code 42478 expir',\n",
       " 'import custom servic announc call freephon 0800 542 0825',\n",
       " 'xclusiv clubsaisai 2morow soire special zouk nichol rose 2 ladi info',\n",
       " '22 day kick euro2004 u kept date latest news result daili remov send get txt stop 83222',\n",
       " 'new textbuddi chat 2 horni guy ur area 4 25p free 2 receiv search postcod txt one name 89693',\n",
       " 'today vodafon number end 4882 select receiv award number match call 09064019014 receiv award',\n",
       " 'dear voucher holder 2 claim week offer pc go http ts cs stop text txt stop 80062',\n",
       " 'privat 2003 account statement show 800 point call 08715203694 identifi code 40533 expir',\n",
       " 'cash prize claim call09050000327 c rstm sw7 3ss 150ppm',\n",
       " '88800 89034 premium phone servic call 08718711108',\n",
       " 'sm ac sun0819 post hello seem cool',\n",
       " 'get ur 1st rington free repli msg tone gr8 top 20 tone phone everi week per wk 2 opt send stop 08452810071 16',\n",
       " 'hi sue 20 year old work lapdanc love sex text live bedroom text sue textoper g2 1da 150ppmsg',\n",
       " 'forward 448712404000 pleas call 08712404000 immedi urgent messag wait',\n",
       " 'review keep fantast nokia game deck club nokia go 2 unsubscrib alert repli word',\n",
       " '4mth half price orang line rental latest camera phone 4 free phone call mobilesdirect free 08000938767 updat or2stoptxt cs',\n",
       " '08714712388 cost 10p',\n",
       " 'urgent 2nd attempt contact u u call 09071512433 b4 050703 csbcm4235wc1n3xx callcost 150ppm mobilesvari 50',\n",
       " 'guarante cash prize claim yr prize call custom servic repres 08714712394',\n",
       " 'email alertfrom jeri stewarts 2kbsubject prescripiton drvgsto listen email call 123',\n",
       " 'hi custom loyalti offer new nokia6650 mobil txtauction txt word start 81151 get 4t ctxt tc',\n",
       " 'u subscrib best mobil content servic uk per 10 day send stop helplin 08706091795',\n",
       " 'realiz 40 year thousand old ladi run around tattoo',\n",
       " 'import custom servic announc premier',\n",
       " 'romant pari 2 night 2 flight book 4 next year call 08704439680t cs appli',\n",
       " 'urgent ur guarante award still unclaim call 09066368327 claimcod m39m51',\n",
       " 'ur award citi break could win summer shop spree everi wk txt store 88039 skilgm tscs087147403231winawk age16',\n",
       " 'import custom servic announc premier call freephon 0800 542 0578',\n",
       " 'ever thought live good life perfect partner txt back name age join mobil commun',\n",
       " '5 free top polyphon tone call 087018728737 nation rate get toppoli tune sent everi week text subpoli 81618 per pole unsub 08718727870',\n",
       " 'orang custom may claim free camera phone upgrad loyalti call 0207 153 offer end 14thmarch c appli availa',\n",
       " 'last chanc claim ur worth discount voucher today text shop 85023 savamob offer mobil cs savamob pobox84 m263uz sub 16',\n",
       " 'free 1st week no1 nokia tone 4 ur mobil everi week txt nokia 8077 get txting tell ur mate pobox 36504 w45wq',\n",
       " 'guarante award even cashto claim ur award call free 08000407165 2 stop getstop 88222 php rg21 4jx',\n",
       " 'congratul ur award either cd gift voucher free entri 2 weekli draw txt music 87066 tnc',\n",
       " 'u outbid simonwatson5120 shinco dvd plyr 2 bid visit sm 2 end bid notif repli end',\n",
       " 'smsservic yourinclus text credit pl goto 3qxj9 unsubscrib stop extra charg help 9ae',\n",
       " '25p 4 alfi moon children need song ur mob tell ur m8 txt tone chariti 8007 nokia poli chariti poli zed 08701417012 profit 2 chariti',\n",
       " 'u secret admir reveal think u r special call opt repli reveal stop per msg recd cust care 07821230901',\n",
       " 'dear voucher holder claim week offer pc pleas go http ts cs appli stop text txt stop 80062',\n",
       " 'want 750 anytim network min 150 text new video phone five pound per week call 08002888812 repli deliveri tomorrow',\n",
       " 'tri contact offer new video phone 750 anytim network min half price rental camcord call 08000930705 repli deliveri wed',\n",
       " 'last chanc 2 claim ur worth discount ye 85023 offer mobil cs sub 16 remov txt x stop',\n",
       " 'urgent call 09066350750 landlin complimentari 4 ibiza holiday cash await collect sae cs po box 434 sk3 8wp 150 ppm',\n",
       " 'talk sexi make new friend fall love world discreet text date servic text vip 83110 see could meet',\n",
       " 'congratul ur award either yr suppli cd virgin record mysteri gift guarante call 09061104283 ts cs approx 3min',\n",
       " 'privat 2003 account statement 07808 xxxxxx show 800 point call 08719899217 identifi code 41685 expir',\n",
       " 'hello need posh bird chap user trial prod champney put need address dob asap ta r',\n",
       " 'u want xma 100 free text messag new video phone half price line rental call free 0800 0721072 find',\n",
       " 'shop till u drop either 10k 5k cash travel voucher call ntt po box cr01327bt fixedlin cost 150ppm mobil vari',\n",
       " 'sunshin quiz wkli q win top soni dvd player u know countri liverpool play mid week txt ansr sp tyron',\n",
       " 'u secret admir look 2 make contact r reveal think ur 09058094565',\n",
       " 'u secret admir look 2 make contact r reveal think ur',\n",
       " 'remind download content alreadi paid goto http mymobi collect content',\n",
       " 'lastest stereophon marley dizze racal libertin stroke win nookii game flirt click themob wap bookmark text wap 82468',\n",
       " 'januari male sale hot gay chat cheaper call nation rate cheap peak stop text call 08712460324',\n",
       " 'money r lucki winner 2 claim prize text money 2 88600 give away text rate box403 w1t1ji',\n",
       " 'dear matthew pleas call 09063440451 landlin complimentari 4 lux tenerif holiday cash await collect ppm150 sae cs box334 sk38xh',\n",
       " 'urgent call 09061749602 landlin complimentari 4 tenerif holiday cash await collect sae cs box 528 hp20 1yf 150ppm',\n",
       " 'get touch folk wait compani txt back name age opt enjoy commun',\n",
       " 'ur current 500 pound maxim ur send go 86688 cc 08718720201 po box',\n",
       " 'filthi stori girl wait',\n",
       " 'urgent tri contact today draw show prize guarante call 09050001808 land line claim m95 valid12hr',\n",
       " 'congrat 2 mobil 3g videophon r call 09063458130 videochat wid mate play java game dload polyph music nolin rentl',\n",
       " 'panason bluetoothhdset free nokia free motorola free doublemin doubletxt orang contract call mobileupd8 08000839402 call 2optout',\n",
       " 'free 1st week no1 nokia tone 4 ur mob everi week txt nokia 8007 get txting tell ur mate pobox 36504 w45wq',\n",
       " 'guess somebodi know secretli fanci wan na find give us call 09065394514 landlin datebox1282essexcm61xn 18',\n",
       " 'know someon know fanci call 09058097218 find pobox 6 ls15hb 150p',\n",
       " '1000 flirt txt girl bloke ur name age eg girl zoe 18 8007 join get chat',\n",
       " '18 day euro2004 kickoff u kept inform latest news result daili unsubscrib send get euro stop 83222',\n",
       " 'eastend tv quiz flower dot compar violet tulip lili txt e f 84025 4 chanc 2 win cash',\n",
       " 'new local date area lot new peopl regist area repli date start 18 replys150',\n",
       " 'someon u know ask date servic 2 contact cant guess call 09058091854 reveal po box385 m6 6wu',\n",
       " 'urgent tri contact today draw show prize guarante call 09050003091 land line claim c52 valid12hr',\n",
       " 'dear u invit xchat final attempt contact u txt chat 86688',\n",
       " 'award sipix digit camera call 09061221061 landlin deliveri within 28day cs box177 m221bp 2yr warranti 150ppm 16 p',\n",
       " 'win urgent mobil number award prize guarante call 09061790121 land line claim 3030 valid 12hr 150ppm',\n",
       " 'dear subscrib ur draw 4 gift voucher b enter receipt correct an elvi presley birthday txt answer 80062',\n",
       " 'messag import inform o2 user today lucki day 2 find log onto http fantast surpris await',\n",
       " '449050000301 price claim call 09050000301',\n",
       " 'bore speed date tri speedchat txt speedchat 80155 like em txt swap get new chatter chat80155 pobox36504w45wq rcd 16',\n",
       " 'want 750 anytim network min 150 text new video phone five pound per week call 08000776320 repli deliveri tomorrow',\n",
       " 'take part mobil survey yesterday 500 text 2 use howev wish 2 get txt send txt 80160 c',\n",
       " 'ur hmv quiz current maxim ur send hmv1 86688',\n",
       " 'dont forget place mani free request wish inform call 08707808226',\n",
       " 'know u u know send chat 86688 let find rcvd ldn 18 year',\n",
       " 'thank winner notifi sm good luck futur market repli stop 84122 custom servic 08450542832',\n",
       " '1000 girl mani local 2 u r virgin 2 r readi 2 4fil ur everi sexual need u 4fil text cute 69911',\n",
       " 'got take 2 take part wrc ralli oz u lucozad energi text ralli le 61200 25p see pack itcould u',\n",
       " 'sex ur mobil free sexi pic jordan text babe everi wk get sexi celeb 4 pic 16 087016248',\n",
       " '1 new voicemail pleas call 08719181503',\n",
       " 'win year suppli cd 4 store ur choic worth enter weekli draw txt music 87066 ts cs',\n",
       " 'sim subscrib select receiv bonu get deliv door txt word ok 88600 claim exp 30apr',\n",
       " '1 new voicemail pleas call 08719181513',\n",
       " '1 nokia tone 4 ur mob everi week txt nok 87021 1st tone free get txtin tell ur friend 16 repli hl 4info',\n",
       " 'repli name address receiv post week complet free accommod variou global locat',\n",
       " 'free entri weekli comp send word enter 84128 18 c cust care 08712405020',\n",
       " 'pleas call 08712402779 immedi urgent messag wait',\n",
       " 'hungri gay guy feel hungri 4 call 08718730555 stop text call 08712460324',\n",
       " 'u get 2 phone wan na chat 2 set meet call 09096102316 u cum 2moro luv jane xx',\n",
       " 'network oper servic free c visit',\n",
       " 'enjoy jamster videosound gold club credit 2 new get fun help call 09701213186',\n",
       " 'get 3 lion england tone repli lionm 4 mono lionp 4 poli 4 go 2 origin n best tone 3gbp network oper rate appli',\n",
       " 'win newest potter order phoenix book 5 repli harri answer 5 question chanc first among reader',\n",
       " 'ur balanc ur next question sang girl 80 2 answer txt ur answer good luck',\n",
       " 'free2day sexi st georg day pic jordan txt pic 89080 dont miss everi wk sauci celeb 4 pic c 0870241182716',\n",
       " 'hot live fantasi call 08707509020 20p per min ntt ltd po box 1327 croydon cr9 5wb 0870 k',\n",
       " 'bear pic nick tom pete dick fact type tri gay chat photo upload call 08718730666 2 stop text call 08712460324',\n",
       " '500 new mobil 2004 must go txt nokia 89545 collect today 2optout txtauction',\n",
       " 'doubl min doubl txt price linerent latest orang bluetooth mobil call mobileupd8 latest offer 08000839402',\n",
       " 'urgent import inform o2 user today lucki day 2 find log onto http fantast surpris await',\n",
       " 'dear u invit xchat final attempt contact u txt chat 86688 ldn 18 yr',\n",
       " 'congratul ur award either cd gift voucher free entri 2 weekli draw txt music 87066 tnc 1 win150ppmx3age16',\n",
       " 'sale arsen dartboard good condit doubl trebl',\n",
       " 'free 1st week entri 2 textpod 4 chanc 2 win 40gb ipod cash everi wk txt pod 84128 ts cs custcar 08712405020',\n",
       " 'regist optin subscrib ur draw 4 gift voucher enter receipt correct an 80062 what no1 bbc chart',\n",
       " 'summer final fanci chat flirt sexi singl yr area get match repli summer free 2 join optout txt stop help08714742804',\n",
       " 'clair havin borin time alon u wan na cum 2nite chat 09099725823 hope 2 c u luv clair xx',\n",
       " 'bought one rington get text cost 3 pound offer tone etc',\n",
       " '09066362231 urgent mobil 07xxxxxxxxx bonu caller prize 2nd attempt reach call 09066362231 asap',\n",
       " '07801543489 guarante latest nokia phone 40gb ipod mp3 player prize txt word collect',\n",
       " 'hi luci hubbi meetin day fri b alon hotel u fanci cumin pl leav msg 2day 09099726395 luci x',\n",
       " 'account credit 500 free text messag activ txt word credit 80488 cs',\n",
       " 'sm ac jsco energi high u may know 2channel 2day ur leadership skill r strong psychic repli an end repli end jsco',\n",
       " 'hot live fantasi call 08707509020 20p per min ntt ltd po box 1327 croydon cr9 5wb 0870 nation rate call',\n",
       " 'thank vote sing along star karaok mobil free link repli sing',\n",
       " 'brand new mobil music servic live free music player arriv shortli instal phone brows content top artist',\n",
       " 'urgent mobil award bonu caller prize 2nd attempt contact call box95qu bt nation rate',\n",
       " 'nokia 7250i get win free auction take part send nokia 86021',\n",
       " 'hello orang 1 month free access game news sport plu 10 free text 20 photo messag repli ye term appli',\n",
       " 'ur current 500 pound maxim ur send go 86688 cc 08718720201',\n",
       " 'sm auction brand new nokia 7250 4 auction today auction free 2 join take part txt nokia 86021',\n",
       " 'privat 2003 account statement show 800 point call 08719899230 identifi code 41685 expir',\n",
       " 'regist subscrib yr draw 4 gift voucher b enter receipt correct an next olymp txt an 80062',\n",
       " 'urgent mobil number award prize guarante call 09061790121 land line claim valid 12hr 150ppm',\n",
       " 'pro video club need help info call 08701237397 must club credit redeem enjoy',\n",
       " 'u secret admir look 2 make contact r reveal think ur 09058094599',\n",
       " '500 free text msg text ok 80488 credit account',\n",
       " 'select stay 1 250 top british hotel noth holiday worth claim call london bx 526 sw73ss',\n",
       " 'eeri nokia tone 4u rpli tone titl 8007 eg tone dracula 8007 titl ghost addamsfa munster exorcist twilight pobox36504w45wq 150p',\n",
       " '0a network allow compani bill sm respons',\n",
       " 'freemsg feelin kinda lnli hope u like 2 keep compani jst got cam mobi wan na c pic txt repli date 82242 msg150p 2rcv hlp 08712317606 stop 82242',\n",
       " 'ur chanc win cash everi wk txt action c custcar 08712405022',\n",
       " 'rgent 2nd attempt contact u u call 09071512433 b4 050703 csbcm4235wc1n3xx callcost 150ppm mobilesvari 50',\n",
       " 'hi ur lookin 4 sauci daytim fun wiv busti marri woman free next week chat 2 sort time 09099726429 janinexx',\n",
       " 'urgent tri contact today draw show prize guarante call 09050001295 land line claim a21 valid 12hr',\n",
       " 'monthli password wap use wap phone pc',\n",
       " 'today vodafon number end 0089 last four digit select receiv award number match pleas call 09063442151 claim award',\n",
       " 'free top rington weekli 1st week subpoli 3 per',\n",
       " 'free msg sorri servic order 81303 could deliv suffici credit pleas top receiv servic',\n",
       " 'hard live 121 chat choos girl connect live call 09094646899 cheap chat uk biggest live servic vu bcm1896wc1n3xx',\n",
       " 'wow boy r back take 2007 uk tour win vip ticket vip club txt club trackmarqu ltd info vipclub4u',\n",
       " 'hi mandi sullivan call hotmix fm chosen receiv easter prize draw pleas telephon 09041940223 claim prize transfer someon els',\n",
       " 'ur go 2 bahama callfreefon 08081560665 speak live oper claim either bahama cruis cash opt txt x 07786200117',\n",
       " 'someon conact date servic enter phone fanci find call landlin pobox12n146tf15',\n",
       " 'hi 07734396839 ibh custom loyalti offer new nokia6600 mobil txtauction txt word start get 4t',\n",
       " 'sm auction nokia 7250i get win free auction take part send nokia 86021',\n",
       " 'call freephon 0800 542 0578',\n",
       " 'buy space invad 4 chanc 2 win orig arcad game consol press 0 game arcad std wap charg see 4 term set purchas',\n",
       " 'big brother alert comput select u 10k cash 150 voucher call ntt po box cro1327 bt landlin cost 150ppm mobil vari',\n",
       " 'win winner foley ipod excit prize soon keep eye ur mobil visit',\n",
       " 'today voda number end 1225 select receiv match pleas call 08712300220 quot claim code 3100 standard rate app',\n",
       " 'hottest pic straight phone see get wet want xx text pic 89555 txt cost 150p textoper g696ga 18 xxx',\n",
       " 'hack chat get backdoor entri 121 chat room fraction cost repli neo69 call 09050280520 subscrib 25p pm dp bcm box 8027 ldn wc1n3xx',\n",
       " 'free nokia motorola upto 12mth linerent 500 free min free call mobileupd8 08001950382 call',\n",
       " '2nd time tri 2 contact u 750 pound prize 2 claim easi call 08718726970 10p per min',\n",
       " 'guarante cash claim yr prize call custom servic repres',\n",
       " 'would like see xxx pic hot nearli ban uk',\n",
       " 'u secret admir look 2 make contact r reveal think ur 09058094594',\n",
       " 'dear 0776xxxxxxx u invit xchat final attempt contact u txt chat 86688 ldn 18yr',\n",
       " 'urgent pleas call 09061743811 landlin abta complimentari 4 tenerif holiday cash await collect sae cs box 326 cw25wx 150ppm',\n",
       " 'call 09090900040 listen extrem dirti live chat go offic right total privaci one know sic listen 60p min',\n",
       " 'freemsg hey u got 1 fone repli wild txt ill send u pic hurri im bore work xxx 18 stop2stop',\n",
       " 'free entri 2 weekli comp chanc win ipod txt pod 80182 get entri std txt rate c appli 08452810073 detail',\n",
       " 'new textbuddi chat 2 horni guy ur area 4 25p free 2 receiv search postcod txt one name 89693 08715500022 rpl stop 2 cnl',\n",
       " 'call 08702490080 tell u 2 call 09066358152 claim prize u 2 enter ur mobil person detail prompt care',\n",
       " 'free 1st week entri 2 textpod 4 chanc 2 win 40gb ipod cash everi wk txt vpod 81303 ts cs custcar 08712405020',\n",
       " 'peopl dog area call 09090204448 join like mind guy arrang 1 1 even minapn ls278bb',\n",
       " 'well done 4 costa del sol holiday await collect call 09050090044 toclaim sae tc pobox334 stockport sk38xh max10min',\n",
       " 'guess somebodi know secretli fanci wan na find give us call 09065394973 landlin datebox1282essexcm61xn 18',\n",
       " '500 free text messag valid 31 decemb 2005',\n",
       " 'guarante award even cashto claim ur award call free 08000407165 2 stop getstop 88222 php',\n",
       " 'repli win weekli 2006 fifa world cup held send stop 87239 end servic',\n",
       " 'urgent pleas call 09061743810 landlin abta complimentari 4 tenerif holiday 5000 cash await collect sae cs box 326 cw25wx 150 ppm',\n",
       " 'free tone hope enjoy new content text stop 61610 unsubscrib provid',\n",
       " 'themob yo yo come new select hot download member get free click open next link sent ur fone',\n",
       " 'great news call freefon 08006344447 claim guarante cash gift speak live oper',\n",
       " 'u win music gift voucher everi week start txt word draw 87066 tsc',\n",
       " 'call 09094100151 use ur min call cast mob vari servic provid aom aom box61 m60 1er u stop age',\n",
       " 'urgent mobil bonu caller prize 2nd attempt reach call 09066362220 asap box97n7qp 150ppm',\n",
       " 'eeri nokia tone 4u rpli tone titl 8007 eg tone dracula 8007 titl ghost addamsfa munster exorcist twilight pobox36504w45wq 150p',\n",
       " 'sexi singl wait text age follow gender wither f gay men text age follow',\n",
       " 'freemsg claim ur 250 sm ok 84025 use web2mobil 2 ur mate etc join c box139 la32wu 16 remov txtx stop',\n",
       " '85233 free rington repli real',\n",
       " 'well done england get offici poli rington colour flag yer mobil text tone flag 84199 txt eng stop box39822 w111wx',\n",
       " 'final chanc claim ur worth discount voucher today text ye 85023 savamob member offer mobil cs savamob pobox84 m263uz sub 16',\n",
       " 'sm servic inclus text credit pl goto unsubscrib stop extra charg po box420 ip4 5we',\n",
       " 'winner special select receiv cash award speak live oper claim call cost 10p',\n",
       " 'sunshin hol claim ur med holiday send stamp self address envelop drink us uk po box 113 bray wicklow eir quiz start saturday unsub stop',\n",
       " 'u win music gift voucher everi week start txt word draw 87066 tsc skillgam 1winaweek age16 150ppermesssubscript',\n",
       " 'b4u voucher marsm log onto discount credit opt repli stop custom care call 08717168528',\n",
       " 'freemsg hey buffi 25 love satisfi men home alon feel randi repli 2 c pix qlynnbv help08700621170150p msg send stop stop txt',\n",
       " 'free 1st week no1 nokia tone 4 ur mob everi week txt nokia 87077 get txting tell ur mate zed pobox 36504 w45wq',\n",
       " 'free camera phone linerent 750 cross ntwk min price txt bundl deal also avbl call 08001950382 mf',\n",
       " 'urgent mobil 07xxxxxxxxx bonu caller prize 2nd attempt reach call 09066362231 asap box97n7qp 150ppm',\n",
       " 'urgent 4 costa del sol holiday await collect call 09050090044 toclaim sae tc pobox334 stockport sk38xh max10min',\n",
       " 'guarante cash prize claim yr prize call custom servic repres 08714712379 cost 10p',\n",
       " 'thank rington order ref number k718 mobil charg tone arriv pleas call custom servic 09065069120',\n",
       " 'hi ya babe x u 4goten bout scammer get smart though regular vodafon respond get prem rate no use also bewar',\n",
       " 'back 2 work 2morro half term u c 2nite 4 sexi passion b4 2 go back chat 09099726481 luv dena call',\n",
       " 'thank rington order ref number r836 mobil charg tone arriv pleas call custom servic 09065069154',\n",
       " 'splashmobil choos 1000 gr8 tone wk subscrit servic weekli tone cost 300p u one credit kick back enjoy',\n",
       " 'heard u4 call 4 rude chat privat line 01223585334 cum wan 2c pic gettin shag text pix 8552 2end send stop 8552 sam xxx',\n",
       " 'forward 88877 free entri weekli comp send word enter 88877 18 c',\n",
       " '88066 88066 lost 3pound help',\n",
       " 'mobil 11mth updat free orang latest colour camera mobil unlimit weekend call call mobil upd8 freefon 08000839402 2stoptx',\n",
       " '1 new messag pleas call 08718738034',\n",
       " 'forward 21870000 hi mailbox messag sm alert 4 messag 21 match pleas call back 09056242159 retriev messag match',\n",
       " 'mobi pub high street prize u know new duchess cornwal txt first name stop 008704050406 sp arrow',\n",
       " 'nokia 7250i get win free auction take part send nokia 86021',\n",
       " 'congratul thank good friend u xma prize 2 claim easi call 08718726971 10p per minut',\n",
       " 'tddnewslett game thedailydraw dear helen dozen free game great prizeswith',\n",
       " 'urgent mobil number bonu caller prize 2nd attempt reach call 09066368753 asap box 97n7qp 150ppm',\n",
       " 'doubl min txt orang price linerent motorola sonyericsson free call mobileupd8 08000839402',\n",
       " 'download mani rington u like restrict 1000 2 choos u even send 2 yr buddi txt sir 80082',\n",
       " 'pleas call 08712402902 immedi urgent messag wait',\n",
       " 'spook mob halloween collect logo pic messag plu free eeri tone txt card spook 8007 zed 08701417012150p per',\n",
       " 'fantasi footbal back tv go sky gamestar sky activ play dream team score start saturday regist sky opt 88088',\n",
       " 'tone club sub expir 2 repli monoc 4 mono polyc 4 poli 1 weekli 150p per week txt stop 2 stop msg free stream 0871212025016',\n",
       " 'xma prize draw tri contact today draw show prize guarante call 09058094565 land line valid 12hr',\n",
       " 'ye place town meet excit adult singl uk txt chat 86688',\n",
       " 'someon contact date servic enter phone becausethey fanci find call landlin pobox1 w14rg 150p',\n",
       " 'babe u want dont u babi im nasti thing 4 filthyguy fanci rude time sexi bitch go slo n hard txt xxx slo 4msg',\n",
       " 'sm servic inclus text credit pl gotto login 3qxj9 unsubscrib stop extra charg help 08702840625 9ae',\n",
       " 'valentin day special win quiz take partner trip lifetim send go 83600 rcvd',\n",
       " 'guess first time creat web page read wrote wait opinion want friend',\n",
       " 'ur chanc win cash everi wk txt play c custcar 08715705022',\n",
       " 'sppok ur mob halloween collect nokia logo pic messag plu free eeri tone txt card spook 8007',\n",
       " 'urgent call 09066612661 landlin complementari 4 tenerif holiday cash await collect sae cs po box 3 wa14 2px 150ppm sender hol offer',\n",
       " 'winner valu network custom hvae select receiv reward collect call valid 24 hour acl03530150pm',\n",
       " 'u nokia 6230 plu free digit camera u get u win free auction take part send nokia 83383 16',\n",
       " 'free entri weekli comp send word win 80086 18 c',\n",
       " 'text82228 get rington logo game question info',\n",
       " 'freemsg award free mini digit camera repli snap collect prize quizclub opt stop sp rwm',\n",
       " 'messag brought gmw connect',\n",
       " 'congrat 2 mobil 3g videophon r call 09063458130 videochat wid ur mate play java game dload polyph music nolin rentl bx420 ip4 5we 150p',\n",
       " 'next amaz xxx picsfree1 video sent enjoy one vid enough 2day text back keyword picsfree1 get next video',\n",
       " 'u subscrib best mobil content servic uk per ten day send stop helplin 08706091795',\n",
       " '3 free tarot text find love life tri 3 free text chanc 85555 16 3 free msg',\n",
       " 'join uk horniest dog servic u sex 2nite sign follow instruct txt entri 69888 150p',\n",
       " 'knock knock txt whose 80082 enter r weekli draw 4 gift voucher 4 store yr choic cs age16',\n",
       " 'forward 21870000 hi mailbox messag sm alert 40 match pleas call back 09056242159 retriev messag match',\n",
       " 'free ring tone text everi week get new tone 0870737910216yr',\n",
       " 'urgent mobil 077xxx bonu caller prize 2nd attempt reach call 09066362206 asap box97n7qp 150ppm',\n",
       " 'guarante latest nokia phone 40gb ipod mp3 player prize txt word collect 83355 ibhltd ldnw15h',\n",
       " 'hello darl today would love chat dont tell look like sexi',\n",
       " '8007 free 1st week no1 nokia tone 4 ur mob everi week txt nokia 8007 get txting tell ur mate pobox 36504 w4 5wq norm',\n",
       " 'wan na get laid 2nite want real dog locat sent direct ur mobil join uk largest dog network txt park 69696 nyt ec2a 3lp',\n",
       " 'tri contact respons offer new nokia fone camcord hit repli call 08000930705 deliveri',\n",
       " 'new tone week includ 1 ab 2 sara 3 order follow instruct next messag',\n",
       " 'urgent tri contact today draw show prize guarante call 09050003091 land line claim c52 valid 12hr',\n",
       " 'sport fan get latest sport news str 2 ur mobil 1 wk free plu free tone txt sport 8007 norm',\n",
       " 'urgent urgent 800 free flight europ give away call b4 10th sept take friend 4 free call claim ba128nnfwfly150ppm',\n",
       " '88066 lost help',\n",
       " 'freemsg fanci flirt repli date join uk fastest grow mobil date servic msg rcvd 25p optout txt stop repli date',\n",
       " 'great new offer doubl min doubl txt best orang tariff get latest camera phone 4 free call mobileupd8 free 08000839402 2stoptxt cs',\n",
       " 'hope enjoy new content text stop 61610 unsubscrib provid',\n",
       " 'urgent pleas call 09066612661 landlin cash luxuri 4 canari island holiday await collect cs sae award 20m12aq 150ppm',\n",
       " 'urgent pleas call 09066612661 landlin complimentari 4 lux costa del sol holiday cash await collect ppm 150 sae cs jame 28 eh74rr',\n",
       " 'marri local women look discreet action 5 real match instantli phone text match 69969 msg cost 150p 2 stop txt stop bcmsfwc1n3xx',\n",
       " 'burger king wan na play footi top stadium get 2 burger king 1st sept go larg super walk winner',\n",
       " 'come take littl time child afraid dark becom teenag want stay night',\n",
       " 'ur chanc win cash everi wk txt action c custcar 08712405022',\n",
       " 'bin award play 4 instant cash call 08715203028 claim everi 9th player win min optout 08718727870',\n",
       " 'freemsg fav xma tone repli real',\n",
       " 'decemb mobil entitl updat latest colour camera mobil free call mobil updat co free 08002986906',\n",
       " 'gr8 poli tone 4 mob direct 2u rpli poli titl 8007 eg poli breathe1 titl crazyin sleepingwith finest ymca pobox365o4w45wq 300p',\n",
       " 'interflora åòit late order interflora flower christma call 0800 505060 place order midnight tomorrow',\n",
       " 'romcapspam everyon around respond well presenc sinc warm outgo bring real breath sunshin',\n",
       " 'congratul thank good friend u xma prize 2 claim easi call 08712103738 10p per minut',\n",
       " 'send logo 2 ur lover 2 name join heart txt love name1 name2 mobno eg love adam eve 07123456789 87077 yahoo pobox36504w45wq txtno 4 ad 150p',\n",
       " 'tkt euro2004 cup final cash collect call 09058099801 b4190604 pobox 7876150ppm',\n",
       " 'jamster get crazi frog sound poli text mad1 real text mad2 88888 6 crazi sound 3 c appli',\n",
       " 'chanc realiti fantasi show call 08707509020 20p per min ntt ltd po box 1327 croydon cr9 5wb 0870 nation rate call',\n",
       " 'adult 18 content video shortli',\n",
       " 'chanc realiti fantasi show call 08707509020 20p per min ntt ltd po box 1327 croydon cr9 5wb 0870 nation rate call',\n",
       " 'hey boy want hot xxx pic sent direct 2 ur phone txt porn 69855 24hr free 50p per day stop text stopbcm sf wc1n3xx',\n",
       " 'doubl min 1000 txt orang tariff latest motorola sonyericsson nokia bluetooth free call mobileupd8 08000839402 yhl',\n",
       " 'ur current 500 pound maxim ur send cash 86688 cc 08718720201 po box',\n",
       " 'urgent mobil number award prize guarante call 09058094454 land line claim valid 12hr',\n",
       " 'sorri u unsubscrib yet mob offer packag min term 54 week pl resubmit request expiri repli themob help 4 info',\n",
       " '1 new messag pleas call 08712400200',\n",
       " 'current messag await collect collect messag call 08718723815',\n",
       " 'urgent mobil award bonu caller prize final attempt 2 contact u call 08714714011',\n",
       " 'ever notic drive anyon go slower idiot everyon drive faster maniac',\n",
       " 'xma offer latest motorola sonyericsson nokia free bluetooth dvd doubl min 1000 txt orang call mobileupd8 08000839402',\n",
       " 'repli win weekli profession sport tiger wood play send stop 87239 end servic',\n",
       " '1 polyphon tone 4 ur mob everi week txt pt2 87575 1st tone free get txtin tell ur friend 16 repli hl 4info',\n",
       " 'messag free welcom new improv sex dog club unsubscrib servic repli stop msg 150p',\n",
       " '12mth half price orang line rental 400min call mobileupd8 08000839402',\n",
       " 'free unlimit hardcor porn direct 2 mobil txt porn 69200 get free access 24 hr chrgd 50p per day txt stop 2exit msg free',\n",
       " 'unsubscrib servic get ton sexi babe hunk straight phone go http subscript',\n",
       " 'hi babe jordan r u im home abroad lone text back u wan na chat xxsp text stop stopcost 150p 08712400603',\n",
       " 'get brand new mobil phone agent mob plu load goodi info text mat 87021',\n",
       " 'lord ring return king store repli lotr 2 june 4 chanc 2 win lotr soundtrack cd stdtxtrate repli stop end txt',\n",
       " 'good luck draw take place 28th feb good luck remov send stop 87239 custom servic 08708034412',\n",
       " '1st wk free gr8 tone str8 2 u wk txt nokia 8007 classic nokia tone hit 8007 poli',\n",
       " 'lookatm thank purchas video clip lookatm charg 35p think better send video mmsto 32323',\n",
       " 'sexi sexi cum text im wet warm readi porn u fun msg free recd msg 150p inc vat 2 cancel text stop',\n",
       " '2nd time tri contact u prize claim call 09053750005 b4 sm 08718725756 140ppm',\n",
       " 'dear voucher holder claim week offer pc pleas go http ts cs appli',\n",
       " '2nd time tri 2 contact u 750 pound prize 2 claim easi call 08712101358 10p per min',\n",
       " 'ur award citi break could win summer shop spree everi wk txt store',\n",
       " 'urgent tri contact today draw show prize guarante call 09066358361 land line claim y87 valid 12hr',\n",
       " 'thank rington order refer number x29 mobil charg tone arriv pleas call custom servic 09065989180',\n",
       " 'ur current 500 pound maxim ur send collect 83600 cc 08718720201 po box',\n",
       " 'congratul thank good friend u xma prize 2 claim easi call 08718726978 10p per minut',\n",
       " '44 7732584351 want new nokia 3510i colour phone deliveredtomorrow 300 free minut mobil 100 free text free camcord repli call 08000930705',\n",
       " 'someon u know ask date servic 2 contact cant guess call 09058097189 reveal pobox 6 ls15hb 150p',\n",
       " 'camera award sipix digit camera call 09061221066 fromm landlin deliveri within 28 day',\n",
       " 'today voda number end 5226 select receiv 350 award hava match pleas call 08712300220 quot claim code 1131 standard rate app',\n",
       " 'messag free welcom new improv sex dog club unsubscrib servic repli stop msg 150p 18',\n",
       " 'rct thnq adrian u text rgd vatian',\n",
       " 'contact date servic someon know find call land line pobox45w2tg150p',\n",
       " 'sorri miss call let talk time 07090201529',\n",
       " 'complimentari 4 star ibiza holiday cash need urgent collect 09066364349 landlin lose',\n",
       " 'free msg bill mobil number mistak shortcod call 08081263000 charg call free bt landlin',\n",
       " 'pleas call 08712402972 immedi urgent messag wait',\n",
       " 'urgent mobil number award bonu caller prize call 09058095201 land line valid 12hr',\n",
       " 'want new nokia 3510i colour phone deliveredtomorrow 300 free minut mobil 100 free text free camcord repli call 08000930705',\n",
       " 'life never much fun great came made truli special wo forget enjoy one',\n",
       " 'want new video phone 600 anytim network min 400 inclus video call download 5 per week free deltomorrow call 08002888812 repli',\n",
       " 'valu custom pleas advis follow recent review mob award bonu prize call 09066368470',\n",
       " 'welcom pleas repli age gender begin 24m',\n",
       " 'freemsg unlimit free call activ smartcal txt call unlimit call help 08448714184 stop txt stop landlineonli',\n",
       " 'mobil 10 mth updat latest orang phone free save free call text ye callback orno opt',\n",
       " 'new 2 club dont fink met yet b gr8 2 c u pleas leav msg 2day wiv ur area 09099726553 repli promis carli x lkpobox177hp51fl',\n",
       " 'camera award sipix digit camera call 09061221066 fromm landlin deliveri within 28 day',\n",
       " 'get free mobil video player free movi collect text go free extra film order c appli 18 yr',\n",
       " 'save money wed lingeri choos superb select nation deliveri brought weddingfriend',\n",
       " 'heard u4 call night knicker make beg like u last time 01223585236 xx luv',\n",
       " 'bloomberg center wait appli futur http',\n",
       " 'want new video phone750 anytim network min 150 text five pound per week call 08000776320 repli deliveri tomorrow',\n",
       " 'contact date servic someon know find call land line pobox45w2tg150p',\n",
       " 'wan2 win westlif 4 u m8 current tour 1 unbreak 2 untam 3 unkempt text 3 cost 50p text',\n",
       " 'dorothi bank granit issu explos pick member 300 nasdaq symbol cdgt per',\n",
       " 'winner guarante caller prize final attempt contact claim call 09071517866 150ppmpobox10183bhamb64x',\n",
       " 'xma new year eve ticket sale club day 10am till 8pm thur fri sat night week sell fast',\n",
       " 'rock yr chik get 100 filthi film xxx pic yr phone rpli filth saristar ltd e14 9yt 08701752560 450p per 5 day stop2 cancel',\n",
       " 'next month get upto 50 call 4 ur standard network charg 2 activ call 9061100010 c 1st4term pobox84 m26 3uz cost min mobcudb',\n",
       " 'urgent tri contact u today draw show prize guarante call 09050000460 land line claim j89 po box245c2150pm',\n",
       " 'text banneduk 89555 see cost 150p textoper g696ga xxx',\n",
       " 'auction round highest bid next maximum bid bid send bid 10 bid good luck',\n",
       " 'collect valentin weekend pari inc flight hotel prize guarante text pari',\n",
       " 'custom loyalti offer new nokia6650 mobil txtauction txt word start 81151 get 4t ctxt tc',\n",
       " 'wo believ true incred txt repli g learn truli amaz thing blow mind o2fwd',\n",
       " 'hot n horni will live local text repli hear strt back 150p per msg netcollex ltdhelpdesk 02085076972 repli stop end',\n",
       " 'want new nokia 3510i colour phone deliv tomorrow 200 free minut mobil 100 free text free camcord repli call 08000930705',\n",
       " 'congratul winner august prize draw call 09066660100 prize code 2309',\n",
       " '8007 25p 4 alfi moon children need song ur mob tell ur m8 txt tone chariti 8007 nokia poli chariti poli zed 08701417012 profit 2 chariti',\n",
       " 'get offici england poli rington colour flag yer mobil tonight game text tone flag optout txt eng stop box39822 w111wx',\n",
       " 'custom servic announc recent tri make deliveri unabl pleas call 07090298926',\n",
       " 'stop club tone repli see html term club tone cost mfl',\n",
       " 'wamma get laid want real doggin locat sent direct mobil join uk largest dog network txt dog 69696 nyt ec2a 3lp',\n",
       " 'promot number 8714714 ur award citi break could win summer shop spree everi wk txt store 88039 skilgm tscs087147403231winawk age16',\n",
       " 'winner special select receiv cash award speak live oper claim call cost 10p',\n",
       " 'thank rington order refer number x49 mobil charg tone arriv pleas call custom servic text txtstar',\n",
       " 'hi 2night ur lucki night uve invit 2 xchat uk wildest chat txt chat 86688 ldn 18yr',\n",
       " '146tf150p',\n",
       " 'dear voucher holder 2 claim 1st class airport loung pass use holiday voucher call book quot 1st class x 2',\n",
       " 'someon u know ask date servic 2 contact cant guess call 09058095107 reveal pobox 7 s3xi 150p',\n",
       " 'mila age23 blond new uk look sex uk guy u like fun text mtalk 1st 5free increment help08718728876',\n",
       " 'claim 200 shop spree call 08717895698 mobstorequiz10ppm',\n",
       " 'want funk ur fone weekli new tone repli tones2u 2 text origin n best tone 3gbp network oper rate appli',\n",
       " 'twink bear scalli skin jock call miss weekend fun call 08712466669 2 stop text call 08712460324 nat rate',\n",
       " 'tri contact repli offer video handset 750 anytim network min unlimit text camcord repli call 08000930705',\n",
       " 'urgent tri contact last weekend draw show prize guarante call claim code k61 valid 12hour',\n",
       " '74355 xma iscom ur award either cd gift voucher free entri 2 r weekli draw txt music 87066 tnc',\n",
       " 'congratul u claim 2 vip row ticket 2 c blu concert novemb blu gift guarante call 09061104276 claim ts cs',\n",
       " 'free msg singl find partner area 1000 real peopl wait chat send chat 62220cncl send stopc per msg',\n",
       " 'win newest åòharri potter order phoenix book 5 repli harri answer 5 question chanc first among reader',\n",
       " 'free msg rington http wml 37819',\n",
       " 'oh god found number glad text back xafter msg cst std ntwk chg',\n",
       " 'link pictur sent also use http',\n",
       " 'doubl min 1000 txt orang tariff latest motorola sonyericsson nokia bluetooth free call mobileupd8 08000839402',\n",
       " 'urgent 2nd attempt contact prize yesterday still await collect claim call acl03530150pm',\n",
       " 'dear dave final notic collect 4 tenerif holiday 5000 cash award call 09061743806 landlin tc sae box326 cw25wx 150ppm',\n",
       " 'tell u 2 call 09066358152 claim prize u 2 enter ur mobil person detail prompt care',\n",
       " '2004 account 07xxxxxxxxx show 786 unredeem point claim call 08719181259 identifi code xxxxx expir',\n",
       " 'want new video handset 750 anytim network min half price line rental camcord repli call 08000930705 deliveri tomorrow',\n",
       " 'free rington repli real poli eg real1 pushbutton dontcha babygoodby golddigg webeburnin 1st tone free 6 u join',\n",
       " 'free msg get gnarl barkley rington total free repli go messag right',\n",
       " 'refus loan secur unsecur ca get credit call free 0800 195 6669 text back',\n",
       " 'special select receiv award call 08712402050 line close cost 10ppm cs appli ag promo',\n",
       " 'valu vodafon custom comput pick win prize collect easi call 09061743386',\n",
       " 'free video camera phone half price line rental 12 mth 500 cross ntwk min 100 txt call mobileupd8 08001950382',\n",
       " 'ringtonek 84484',\n",
       " 'rington club gr8 new poli direct mobil everi week',\n",
       " 'bank granit issu explos pick member 300 nasdaq symbol cdgt per',\n",
       " 'bore housew chat n date rate landlin',\n",
       " 'tri call repli sm video mobil 750 min unlimit text free camcord repli call 08000930705 del thur',\n",
       " '2nd time tri contact u prize 2 claim easi call 087104711148 10p per minut',\n",
       " 'receiv week tripl echo rington shortli enjoy',\n",
       " 'u select stay 1 250 top british hotel noth holiday valu dial 08712300220 claim nation rate call bx526 sw73ss',\n",
       " 'chosen receiv award pl call claim number 09066364311 collect award select receiv valu mobil custom',\n",
       " 'win cash prize prize worth',\n",
       " 'thank rington order refer number mobil charg tone arriv pleas call custom servic 09065989182',\n",
       " 'mobi pub high street prize u know new duchess cornwal txt first name stop 008704050406 sp',\n",
       " 'week savamob member offer access call 08709501522 detail savamob pobox 139 la3 2wu savamob offer mobil',\n",
       " 'contact date servic someon know find call mobil landlin 09064017305 pobox75ldns7',\n",
       " 'chase us sinc sept definit pay thank inform ignor kath manchest',\n",
       " 'loan purpos even bad credit tenant welcom call 08717111821',\n",
       " '87077 kick new season 2wk free goal news ur mobil txt ur club name 87077 eg villa 87077',\n",
       " 'orang bring rington time chart hero free hit week go rington pic wap stop receiv tip repli stop',\n",
       " 'privat 2003 account statement 07973788240 show 800 point call 08715203649 identifi code 40533 expir',\n",
       " 'tri call repli sm video mobil 750 min unlimit text free camcord repli call 08000930705',\n",
       " 'gsoh good spam ladi u could b male gigolo 2 join uk fastest grow men club repli oncal mjzgroup repli stop msg',\n",
       " 'hot live fantasi call 08707500020 20p per min ntt ltd po box 1327 croydon cr9 5wb 0870 nation rate call',\n",
       " 'urgent mobil number award ukp 2000 prize guarante call 09061790125 landlin claim valid 12hr 150ppm',\n",
       " 'spjanuari male sale hot gay chat cheaper call nation rate cheap peak stop text call 08712460324',\n",
       " 'freemsg today day readi horni live town love sex fun game netcollex ltd 08700621170150p per msg repli stop end',\n",
       " 'simpson movi releas juli 2007 name band die start film day day day send b c',\n",
       " 'pleas call amanda regard renew upgrad current handset free charg offer end today tel 0845 021 3680 subject c',\n",
       " 'want new video phone 750 anytim network min half price line rental free text 3 month repli call 08000930705 free deliveri',\n",
       " 'dear voucher holder claim week offer pc pleas go http ts cs appli',\n",
       " 'urgent pleas call abta complimentari 4 spanish holiday cash await collect sae cs box 47 po19 2ez 150ppm',\n",
       " 'cmon babe make horni turn txt fantasi babe im hot sticki need repli cost 2 cancel send stop',\n",
       " 'import inform 4 orang user 0796xxxxxx today ur lucki day 2 find log onto http fantast prizeawait',\n",
       " 'miss call alert number call left messag 07008009200',\n",
       " 'freemsg record indic may entitl 3750 pound accid claim free repli ye msg opt text stop',\n",
       " 'show ur colour euro 2004 offer get england flag 3lion tone ur phone click follow servic messag info',\n",
       " 'text pass 69669 collect polyphon rington normal gpr charg appli enjoy tone',\n",
       " 'accordingli repeat text word ok mobil phone send',\n",
       " 'block breaker come delux format new featur great graphic buy repli get bbdelux take challeng',\n",
       " 'import inform 4 orang user today lucki day 2find log onto http fantast surpris await',\n",
       " 'natalja invit friend repli see stop send stop frnd 62468',\n",
       " 'urgent import inform 02 user today lucki day 2 find log onto http fantast surpris await',\n",
       " 'kit strip bill 150p netcollex po box 1013 ig11 oja',\n",
       " 'pleas call 08712402578 immedi urgent messag wait',\n",
       " 'let send free anonym mask messag im send messag see potenti abus',\n",
       " 'congrat 2 mobil 3g videophon r call 09061744553 videochat wid ur mate play java game dload polyh music nolin rentl bx420 ip4 5we 150pm',\n",
       " 'import inform 4 orang user 0789xxxxxxx today lucki day 2find log onto http fantast surpris await',\n",
       " 'date servic ask 2 contact u someon shi call 09058091870 reveal pobox84 m26 3uz 150p',\n",
       " 'want new video handset 750 time network min unlimit text camcord repli call 08000930705 del sat',\n",
       " 'ur balanc next question complet landmark big bob barri ben text b c good luck',\n",
       " 'ur tonex subscript renew charg choos 10 poli month bill msg',\n",
       " 'prize go anoth custom c polo ltd suit 373 london w1j 6hl pleas call back busi',\n",
       " 'want new nokia 3510i colour phone deliv tomorrow 200 free minut mobil 100 free text free camcord repli call 8000930705',\n",
       " 'recpt order rington order process',\n",
       " 'one regist subscrib u enter draw 4 100 gift voucher repli enter unsubscrib text stop',\n",
       " 'chanc win free bluetooth headset simpli repli back',\n",
       " 'b floppi b snappi happi gay chat servic photo upload call 08718730666 2 stop text call 08712460324',\n",
       " 'welcom msg free give free call futur mg bill 150p daili cancel send 89123',\n",
       " 'receiv mobil content enjoy',\n",
       " 'want explicit sex 30 sec ring 02073162414 cost',\n",
       " 'latest nokia mobil ipod mp3 player proze guarante repli win 83355 norcorp',\n",
       " 'sm servic inclus text credit pl goto 3qxj9 unsubscrib stop extra charg help 9ae',\n",
       " 'mobil club choos top qualiti item mobil 7cfca1a',\n",
       " 'money wine number 946 wot next',\n",
       " 'want cock hubbi away need real man 2 satisfi txt wife 89938 string action txt stop 2 end txt rec otbox 731 la1 7w',\n",
       " 'gr8 new servic live sex video chat mob see sexiest dirtiest girl live ur phone 4 detail text horni 89070 cancel send stop 89070',\n",
       " 'freemsg hi babi wow got new cam mobi wan na c hot pic fanci chat im w8in 4utxt rpli chat 82242 hlp 08712317606 msg150p 2rcv',\n",
       " 'wan na laugh tri mobil logon txting word chat send 8883 cm po box 4217 london w1a 6zf rcvd',\n",
       " '2nd attempt contact u u 09071512432 b4 300603t',\n",
       " 'congratul ur award 500 cd voucher 125gift guarante free entri 2 100 wkli draw txt music 87066',\n",
       " 'contract mobil 11 mnth latest motorola nokia etc free doubl min text orang tariff text ye callback remov record',\n",
       " 'urgent call 09066350750 landlin complimentari 4 ibiza holiday cash await collect sae cs po box 434 sk3 8wp 150 ppm',\n",
       " 'u secret admir look 2 make contact r reveal think ur',\n",
       " 'freemsg txt call 86888 claim reward 3 hour talk time use phone inc 3hr 16 stop txtstop',\n",
       " 'sunshin quiz win super soni dvd record cannam capit australia text mquiz b',\n",
       " 'today voda number end 7634 select receiv reward match pleas call 08712300220 quot claim code 7684 standard rate appli',\n",
       " 'rip get mobil content call 08717509990 six download 3',\n",
       " 'tri contact repli offer video phone 750 anytim network min half price line rental camcord repli call 08000930705',\n",
       " 'xma reward wait comput randomli pick loyal mobil custom receiv reward call 09066380611',\n",
       " 'privat 2003 account statement show 800 point call 08718738002 identifi code 48922 expir',\n",
       " 'custom servic announc recent tri make deliveri unabl pleas call 07099833605',\n",
       " 'hi babe chloe r u smash saturday night great weekend u miss sp text stop stop',\n",
       " 'urgent mobil 07808726822 award bonu caller prize 2nd attempt contact call box95qu',\n",
       " 'free game get rayman golf 4 free o2 game arcad 1st get ur game set repli post save activ8 press 0 key arcad termsappli',\n",
       " 'mobil 10 mth updat latest phone free keep ur number get extra free text ye call',\n",
       " 'weekli tone readi download week new tone includ 1 crazi f 2 3 black p info n',\n",
       " 'get lot cash weekend dear welcom weekend got biggest best ever cash give away',\n",
       " 'thank 4 continu support question week enter u in2 draw 4 cash name new us presid txt an 80082',\n",
       " 'uniqu user id remov send stop 87239 custom servic 08708034412',\n",
       " 'urgent 09066649731from landlin complimentari 4 ibiza holiday cash await collect sae cs po box 434 sk3 8wp 150ppm',\n",
       " 'urgent 2nd attempt contact prize yesterday still await collect claim call 09061702893',\n",
       " 'santa call would littl one like call santa xma eve call 09077818151 book time last 3min 30 c',\n",
       " 'privat 2004 account statement 078498 7 show 786 unredeem bonu point claim call 08719180219 identifi code 45239 expir',\n",
       " 'check choos babe video fgkslpopw fgkslpo',\n",
       " 'u r winner u ave special select 2 receiv cash 4 holiday flight inc speak live oper 2 claim 18',\n",
       " 'new mobil 2004 must go txt nokia 89545 collect today 2optout txtauction',\n",
       " 'privat 2003 account statement show 800 point call 08715203652 identifi code 42810 expir',\n",
       " 'valu vodafon custom comput pick win prize collect easi call 09061743386',\n",
       " 'free messag thank use auction subscript servic 18 2 skip auction txt 2 unsubscrib txt stop customercar 08718726270',\n",
       " 'lyricalladi invit friend repli see stop send stop frnd 62468',\n",
       " 'want latest video handset 750 anytim network min half price line rental repli call 08000930705 deliveri tomorrow',\n",
       " 'ou guarante latest nokia phone 40gb ipod mp3 player prize txt word collect 83355 ibhltd ldnw15h',\n",
       " 'free polyphon rington text super 87131 get free poli tone week 16 sn pobox202 nr31 7z subscript 450pw',\n",
       " 'warner villag 83118 c colin farrel swat wkend warner villag get 1 free med popcorn show c c kiosk repli soni 4 mre film offer',\n",
       " 'goal arsen 4 henri 7 v liverpool 2 henri score simpl shot 6 yard pass bergkamp give arsen 2 goal margin 78 min',\n",
       " 'hi sexychat girl wait text text great night chat send stop stop servic',\n",
       " 'hi ami send free phone number coupl day give access adult parti',\n",
       " 'welcom select o2 servic ad benefit call special train advisor free mobil diall 402',\n",
       " 'dear voucher holder next meal us use follow link pc 2 enjoy 2 4 1 dine experiencehttp',\n",
       " 'urgent tri contact today draw show prize guarante call 09058094507 land line claim valid 12hr',\n",
       " 'donat unicef asian tsunami disast support fund text donat ad next bill',\n",
       " 'goldvik invit friend repli see stop send stop frnd 62468',\n",
       " 'phoni award today voda number end xxxx select receiv award match pleas call 08712300220 quot claim code 3100 standard rate app',\n",
       " 'cd 4u congratul ur award cd gift voucher gift guarante freeentri 2 wkli draw xt music 87066 tnc',\n",
       " 'guarante cash prize claim yr prize call custom servic repres 08714712412 cost 10p',\n",
       " 'dear 0776xxxxxxx u invit xchat final attempt contact u txt chat 86688 ldn 18yr',\n",
       " 'ur current 500 pound maxim ur send go 86688 cc 08718720201',\n",
       " 'privat 2003 account statement show 800 point call 08715203685 identifi expir',\n",
       " 'like tell deepest darkest fantasi call 09094646631 stop text call 08712460324 nat rate',\n",
       " 'natali invit friend repli see stop send stop frnd 62468',\n",
       " 'jamster get free wallpap text heart 88888 c appli 16 need help call 08701213186',\n",
       " 'free video camera phone half price line rental 12 mth 500 cross ntwk min 100 txt call mobileupd8 08001950382',\n",
       " '83039 uk break accommodationvouch term condit appli 2 claim mustprovid claim number 15541',\n",
       " '5p 4 alfi moon children need song ur mob tell ur m8 txt tone chariti 8007 nokia poli chariti poli zed 08701417012 profit 2 chariti',\n",
       " 'win shop spree everi week start 2 play text store skilgm tscs08714740323 1winawk age16',\n",
       " '2nd attempt contract u week top prize either cash prize call 09066361921',\n",
       " 'want new nokia 3510i colour phone deliveredtomorrow 300 free minut mobil 100 free text free camcord repli call 08000930705',\n",
       " 'themob hit link get premium pink panther game new 1 sugabab crazi zebra anim badass hoodi 4 free',\n",
       " 'msg mobil content order resent previou attempt fail due network error queri customersqueri',\n",
       " '1 new messag pleas call 08715205273',\n",
       " 'decemb mobil entitl updat latest colour camera mobil free call mobil updat vco free 08002986906',\n",
       " 'get 3 lion england tone repli lionm 4 mono lionp 4 poli 4 go 2 origin n best tone 3gbp network oper rate appli',\n",
       " 'privat 2003 account statement 078',\n",
       " '4 costa del sol holiday await collect call 09050090044 toclaim sae tc pobox334 stockport sk38xh max10min',\n",
       " 'get garden readi summer free select summer bulb seed worth scotsman saturday stop go2',\n",
       " 'sm auction brand new nokia 7250 4 auction today auction free 2 join take part txt nokia 86021',\n",
       " 'ree entri 2 weekli comp chanc win ipod txt pod 80182 get entri std txt rate c appli 08452810073 detail',\n",
       " 'record indic u mayb entitl 5000 pound compens accid claim 4 free repli claim msg 2 stop txt stop',\n",
       " 'spook mob halloween collect logo pic messag plu free eeri tone txt card spook 8007 zed 08701417012150p per',\n",
       " 'call germani 1 penc per minut call fix line via access number 0844 861 85 prepay direct access',\n",
       " 'mobil 11mth updat free orang latest colour camera mobil unlimit weekend call call mobil upd8 freefon 08000839402 2stoptxt',\n",
       " 'privat 2003 account statement fone show 800 point call 08715203656 identifi code 42049 expir',\n",
       " 'someonon know tri contact via date servic find could call mobil landlin 09064015307 box334sk38ch',\n",
       " 'urgent pleas call 09061213237 landlin cash 4 holiday await collect cs sae po box 177 m227xi',\n",
       " 'prize go anoth custom c polo ltd suit 373 london w1j 6hl pleas call back busi',\n",
       " 'urgent mobil number award prize guarante call 09061790126 land line claim valid 12hr 150ppm',\n",
       " 'urgent pleas call 09061213237 landlin cash luxuri 4 canari island holiday await collect cs sae po box m227xi 150ppm',\n",
       " 'xma iscom ur award either cd gift voucher free entri 2 r weekli draw txt music 87066 tnc',\n",
       " 'u r subscrib 2 textcomp 250 wkli comp 1st wk free question follow subsequ wk charg unsubscrib txt stop 2 84128 custcar 08712405020',\n",
       " 'call 09095350301 send girl erot ecstaci stop text call 08712460324 nat rate',\n",
       " 'xma reward wait comput randomli pick loyal mobil custom receiv reward call 09066380611',\n",
       " 'import messag final contact attempt import messag wait custom claim dept expir call 08717507382',\n",
       " 'date two start sent text talk sport radio last week connect think coincid',\n",
       " 'current lead bid paus auction send custom care 08718726270',\n",
       " 'free entri gr8prize wkli comp 4 chanc win latest nokia 8800 psp cash everi great 80878 08715705022',\n",
       " '1 new messag call',\n",
       " 'santa call would littl one like call santa xma eve call 09058094583 book time',\n",
       " 'guarante 32000 award mayb even cash claim ur award call free 0800 legitimat efreefon number wat u think',\n",
       " 'latest news polic station toilet stolen cop noth go',\n",
       " 'sparkl shop break 45 per person call 0121 2025050 visit',\n",
       " 'txt call 86888 claim reward 3 hour talk time use phone inc 3hr 16 stop txtstop',\n",
       " 'wml c ringtoneåá',\n",
       " 'urgent last weekend draw show cash spanish holiday call 09050000332 claim c rstm sw7 3ss 150ppm',\n",
       " 'urgent tri contact last weekend draw show u prize guarante call 09064017295 claim code k52 valid 12hr 150p pm',\n",
       " '2p per min call germani 08448350055 bt line 2p per min check info c text stop opt',\n",
       " 'marvel mobil play offici ultim game ur mobil right text spider 83338 game send u free 8ball wallpap',\n",
       " 'privat 2003 account statement 07808247860 show 800 point call 08719899229 identifi code 40411 expir',\n",
       " 'privat 2003 account statement show 800 point call 08718738001 identifi code 49557 expir',\n",
       " 'want explicit sex 30 sec ring 02073162414 cost gsex pobox 2667 wc1n 3xx',\n",
       " 'ask 3mobil 0870 chatlin inclu free min india cust serv sed ye l8er got mega bill 3 dont giv shit bailiff due day 3 want',\n",
       " 'contract mobil 11 mnth latest motorola nokia etc free doubl min text orang tariff text ye callback remov record',\n",
       " 'remind o2 get pound free call credit detail great offer pl repli 2 text valid name hous postcod',\n",
       " '2nd time tri 2 contact u pound prize 2 claim easi call 087187272008 now1 10p per minut']"
      ]
     },
     "execution_count": 51,
     "metadata": {},
     "output_type": "execute_result"
    }
   ],
   "source": [
    "df[df['target']==1]['transformed_text'].tolist()"
   ]
  },
  {
   "cell_type": "code",
   "execution_count": 52,
   "id": "21748b08",
   "metadata": {},
   "outputs": [],
   "source": [
    "#combining all the words in all the spam messages\n",
    "\n",
    "spam_corpus=[]\n",
    "for msg in df[df['target']==1]['transformed_text'].tolist():\n",
    "    for word in msg.split():\n",
    "        spam_corpus.append(word)"
   ]
  },
  {
   "cell_type": "code",
   "execution_count": 53,
   "id": "d3958f72",
   "metadata": {},
   "outputs": [
    {
     "data": {
      "text/plain": [
       "9939"
      ]
     },
     "execution_count": 53,
     "metadata": {},
     "output_type": "execute_result"
    }
   ],
   "source": [
    "# finding the no. of words after combining all the spam messages\n",
    "len(spam_corpus)"
   ]
  },
  {
   "cell_type": "code",
   "execution_count": 54,
   "id": "2dedc8d0",
   "metadata": {},
   "outputs": [
    {
     "data": {
      "text/plain": [
       "[('call', 320),\n",
       " ('free', 191),\n",
       " ('2', 155),\n",
       " ('txt', 141),\n",
       " ('text', 122),\n",
       " ('u', 119),\n",
       " ('ur', 119),\n",
       " ('mobil', 114),\n",
       " ('stop', 104),\n",
       " ('repli', 103),\n",
       " ('claim', 98),\n",
       " ('4', 97),\n",
       " ('prize', 82),\n",
       " ('get', 74),\n",
       " ('new', 64),\n",
       " ('servic', 64),\n",
       " ('tone', 63),\n",
       " ('send', 60),\n",
       " ('urgent', 57),\n",
       " ('nokia', 57),\n",
       " ('contact', 56),\n",
       " ('award', 55),\n",
       " ('phone', 52),\n",
       " ('cash', 51),\n",
       " ('pleas', 51),\n",
       " ('week', 49),\n",
       " ('win', 48),\n",
       " ('c', 45),\n",
       " ('collect', 45),\n",
       " ('min', 45)]"
      ]
     },
     "execution_count": 54,
     "metadata": {},
     "output_type": "execute_result"
    }
   ],
   "source": [
    "#finding the first 30 most commonly used words in spam messages\n",
    "from collections import Counter\n",
    "Counter(spam_corpus).most_common(30)"
   ]
  },
  {
   "cell_type": "code",
   "execution_count": 55,
   "id": "a1e69e34",
   "metadata": {},
   "outputs": [
    {
     "data": {
      "text/html": [
       "<div>\n",
       "<style scoped>\n",
       "    .dataframe tbody tr th:only-of-type {\n",
       "        vertical-align: middle;\n",
       "    }\n",
       "\n",
       "    .dataframe tbody tr th {\n",
       "        vertical-align: top;\n",
       "    }\n",
       "\n",
       "    .dataframe thead th {\n",
       "        text-align: right;\n",
       "    }\n",
       "</style>\n",
       "<table border=\"1\" class=\"dataframe\">\n",
       "  <thead>\n",
       "    <tr style=\"text-align: right;\">\n",
       "      <th></th>\n",
       "      <th>0</th>\n",
       "      <th>1</th>\n",
       "    </tr>\n",
       "  </thead>\n",
       "  <tbody>\n",
       "    <tr>\n",
       "      <th>0</th>\n",
       "      <td>call</td>\n",
       "      <td>320</td>\n",
       "    </tr>\n",
       "    <tr>\n",
       "      <th>1</th>\n",
       "      <td>free</td>\n",
       "      <td>191</td>\n",
       "    </tr>\n",
       "    <tr>\n",
       "      <th>2</th>\n",
       "      <td>2</td>\n",
       "      <td>155</td>\n",
       "    </tr>\n",
       "    <tr>\n",
       "      <th>3</th>\n",
       "      <td>txt</td>\n",
       "      <td>141</td>\n",
       "    </tr>\n",
       "    <tr>\n",
       "      <th>4</th>\n",
       "      <td>text</td>\n",
       "      <td>122</td>\n",
       "    </tr>\n",
       "    <tr>\n",
       "      <th>5</th>\n",
       "      <td>u</td>\n",
       "      <td>119</td>\n",
       "    </tr>\n",
       "    <tr>\n",
       "      <th>6</th>\n",
       "      <td>ur</td>\n",
       "      <td>119</td>\n",
       "    </tr>\n",
       "    <tr>\n",
       "      <th>7</th>\n",
       "      <td>mobil</td>\n",
       "      <td>114</td>\n",
       "    </tr>\n",
       "    <tr>\n",
       "      <th>8</th>\n",
       "      <td>stop</td>\n",
       "      <td>104</td>\n",
       "    </tr>\n",
       "    <tr>\n",
       "      <th>9</th>\n",
       "      <td>repli</td>\n",
       "      <td>103</td>\n",
       "    </tr>\n",
       "    <tr>\n",
       "      <th>10</th>\n",
       "      <td>claim</td>\n",
       "      <td>98</td>\n",
       "    </tr>\n",
       "    <tr>\n",
       "      <th>11</th>\n",
       "      <td>4</td>\n",
       "      <td>97</td>\n",
       "    </tr>\n",
       "    <tr>\n",
       "      <th>12</th>\n",
       "      <td>prize</td>\n",
       "      <td>82</td>\n",
       "    </tr>\n",
       "    <tr>\n",
       "      <th>13</th>\n",
       "      <td>get</td>\n",
       "      <td>74</td>\n",
       "    </tr>\n",
       "    <tr>\n",
       "      <th>14</th>\n",
       "      <td>new</td>\n",
       "      <td>64</td>\n",
       "    </tr>\n",
       "    <tr>\n",
       "      <th>15</th>\n",
       "      <td>servic</td>\n",
       "      <td>64</td>\n",
       "    </tr>\n",
       "    <tr>\n",
       "      <th>16</th>\n",
       "      <td>tone</td>\n",
       "      <td>63</td>\n",
       "    </tr>\n",
       "    <tr>\n",
       "      <th>17</th>\n",
       "      <td>send</td>\n",
       "      <td>60</td>\n",
       "    </tr>\n",
       "    <tr>\n",
       "      <th>18</th>\n",
       "      <td>urgent</td>\n",
       "      <td>57</td>\n",
       "    </tr>\n",
       "    <tr>\n",
       "      <th>19</th>\n",
       "      <td>nokia</td>\n",
       "      <td>57</td>\n",
       "    </tr>\n",
       "    <tr>\n",
       "      <th>20</th>\n",
       "      <td>contact</td>\n",
       "      <td>56</td>\n",
       "    </tr>\n",
       "    <tr>\n",
       "      <th>21</th>\n",
       "      <td>award</td>\n",
       "      <td>55</td>\n",
       "    </tr>\n",
       "    <tr>\n",
       "      <th>22</th>\n",
       "      <td>phone</td>\n",
       "      <td>52</td>\n",
       "    </tr>\n",
       "    <tr>\n",
       "      <th>23</th>\n",
       "      <td>cash</td>\n",
       "      <td>51</td>\n",
       "    </tr>\n",
       "    <tr>\n",
       "      <th>24</th>\n",
       "      <td>pleas</td>\n",
       "      <td>51</td>\n",
       "    </tr>\n",
       "    <tr>\n",
       "      <th>25</th>\n",
       "      <td>week</td>\n",
       "      <td>49</td>\n",
       "    </tr>\n",
       "    <tr>\n",
       "      <th>26</th>\n",
       "      <td>win</td>\n",
       "      <td>48</td>\n",
       "    </tr>\n",
       "    <tr>\n",
       "      <th>27</th>\n",
       "      <td>c</td>\n",
       "      <td>45</td>\n",
       "    </tr>\n",
       "    <tr>\n",
       "      <th>28</th>\n",
       "      <td>collect</td>\n",
       "      <td>45</td>\n",
       "    </tr>\n",
       "    <tr>\n",
       "      <th>29</th>\n",
       "      <td>min</td>\n",
       "      <td>45</td>\n",
       "    </tr>\n",
       "  </tbody>\n",
       "</table>\n",
       "</div>"
      ],
      "text/plain": [
       "          0    1\n",
       "0      call  320\n",
       "1      free  191\n",
       "2         2  155\n",
       "3       txt  141\n",
       "4      text  122\n",
       "5         u  119\n",
       "6        ur  119\n",
       "7     mobil  114\n",
       "8      stop  104\n",
       "9     repli  103\n",
       "10    claim   98\n",
       "11        4   97\n",
       "12    prize   82\n",
       "13      get   74\n",
       "14      new   64\n",
       "15   servic   64\n",
       "16     tone   63\n",
       "17     send   60\n",
       "18   urgent   57\n",
       "19    nokia   57\n",
       "20  contact   56\n",
       "21    award   55\n",
       "22    phone   52\n",
       "23     cash   51\n",
       "24    pleas   51\n",
       "25     week   49\n",
       "26      win   48\n",
       "27        c   45\n",
       "28  collect   45\n",
       "29      min   45"
      ]
     },
     "execution_count": 55,
     "metadata": {},
     "output_type": "execute_result"
    }
   ],
   "source": [
    "#making a dataframe with first 30 most commonly used words in spam messages\n",
    "pd.DataFrame(Counter(spam_corpus).most_common(30))"
   ]
  },
  {
   "cell_type": "code",
   "execution_count": 56,
   "id": "b8643fc5",
   "metadata": {},
   "outputs": [
    {
     "name": "stderr",
     "output_type": "stream",
     "text": [
      "C:\\Users\\hp\\anaconda3\\lib\\site-packages\\seaborn\\_decorators.py:36: FutureWarning: Pass the following variables as keyword args: x, y. From version 0.12, the only valid positional argument will be `data`, and passing other arguments without an explicit keyword will result in an error or misinterpretation.\n",
      "  warnings.warn(\n"
     ]
    },
    {
     "data": {
      "image/png": "[encoded data removed]",
      "text/plain": [
       "<Figure size 432x288 with 1 Axes>"
      ]
     },
     "metadata": {
      "needs_background": "light"
     },
     "output_type": "display_data"
    }
   ],
   "source": [
    "sns.barplot(pd.DataFrame(Counter(spam_corpus).most_common(30))[0],pd.DataFrame(Counter(spam_corpus).most_common(30))[1])\n",
    "plt.xticks(rotation='vertical')\n",
    "plt.show()"
   ]
  },
  {
   "cell_type": "code",
   "execution_count": 57,
   "id": "091e4254",
   "metadata": {},
   "outputs": [],
   "source": [
    "ham_corpus=[]\n",
    "for msg in df[df['target']==0]['transformed_text'].tolist():\n",
    "    for word in msg.split():\n",
    "        ham_corpus.append(word)"
   ]
  },
  {
   "cell_type": "code",
   "execution_count": 58,
   "id": "b35e649e",
   "metadata": {},
   "outputs": [
    {
     "data": {
      "text/plain": [
       "35394"
      ]
     },
     "execution_count": 58,
     "metadata": {},
     "output_type": "execute_result"
    }
   ],
   "source": [
    "len(ham_corpus)"
   ]
  },
  {
   "cell_type": "code",
   "execution_count": 59,
   "id": "b957c237",
   "metadata": {},
   "outputs": [
    {
     "name": "stderr",
     "output_type": "stream",
     "text": [
      "C:\\Users\\hp\\anaconda3\\lib\\site-packages\\seaborn\\_decorators.py:36: FutureWarning: Pass the following variables as keyword args: x, y. From version 0.12, the only valid positional argument will be `data`, and passing other arguments without an explicit keyword will result in an error or misinterpretation.\n",
      "  warnings.warn(\n"
     ]
    },
    {
     "data": {
      "image/png": "[encoded data removed]",
      "text/plain": [
       "<Figure size 432x288 with 1 Axes>"
      ]
     },
     "metadata": {
      "needs_background": "light"
     },
     "output_type": "display_data"
    }
   ],
   "source": [
    "sns.barplot(pd.DataFrame(Counter(ham_corpus).most_common(30))[0],pd.DataFrame(Counter(ham_corpus).most_common(30))[1])\n",
    "plt.xticks(rotation='vertical')\n",
    "plt.show()"
   ]
  },
  {
   "cell_type": "markdown",
   "id": "ca3e8b30",
   "metadata": {},
   "source": [
    "## 4. Model Building"
   ]
  },
  {
   "cell_type": "code",
   "execution_count": 60,
   "id": "d42cc12d",
   "metadata": {},
   "outputs": [],
   "source": [
    "from sklearn.feature_extraction.text import CountVectorizer, TfidfVectorizer"
   ]
  },
  {
   "cell_type": "code",
   "execution_count": 61,
   "id": "a149f1e3",
   "metadata": {},
   "outputs": [],
   "source": [
    "cv= CountVectorizer()"
   ]
  },
  {
   "cell_type": "code",
   "execution_count": 62,
   "id": "598b4cbd",
   "metadata": {},
   "outputs": [],
   "source": [
    "tfidf = TfidfVectorizer(max_features=3000)"
   ]
  },
  {
   "cell_type": "code",
   "execution_count": 63,
   "id": "0fcf3686",
   "metadata": {},
   "outputs": [],
   "source": [
    "X = tfidf.fit_transform(df['transformed_text']).toarray()"
   ]
  },
  {
   "cell_type": "code",
   "execution_count": 64,
   "id": "02c9a241",
   "metadata": {},
   "outputs": [
    {
     "data": {
      "text/plain": [
       "(5169, 3000)"
      ]
     },
     "execution_count": 64,
     "metadata": {},
     "output_type": "execute_result"
    }
   ],
   "source": [
    "X.shape"
   ]
  },
  {
   "cell_type": "code",
   "execution_count": 65,
   "id": "183fc76c",
   "metadata": {},
   "outputs": [],
   "source": [
    "y = df['target'].values"
   ]
  },
  {
   "cell_type": "code",
   "execution_count": 66,
   "id": "87c40228",
   "metadata": {},
   "outputs": [
    {
     "data": {
      "text/plain": [
       "array([0, 0, 1, ..., 0, 0, 0])"
      ]
     },
     "execution_count": 66,
     "metadata": {},
     "output_type": "execute_result"
    }
   ],
   "source": [
    "y"
   ]
  },
  {
   "cell_type": "code",
   "execution_count": 67,
   "id": "91905331",
   "metadata": {},
   "outputs": [],
   "source": [
    "from sklearn.model_selection import train_test_split"
   ]
  },
  {
   "cell_type": "code",
   "execution_count": 68,
   "id": "1e2a2749",
   "metadata": {},
   "outputs": [],
   "source": [
    "X_train,X_test,y_train,y_test = train_test_split(X,y,test_size=0.2,random_state=2)"
   ]
  },
  {
   "cell_type": "code",
   "execution_count": 69,
   "id": "928973d6",
   "metadata": {},
   "outputs": [],
   "source": [
    "from sklearn.naive_bayes import GaussianNB, MultinomialNB, BernoulliNB\n",
    "from sklearn.metrics import accuracy_score,confusion_matrix,precision_score"
   ]
  },
  {
   "cell_type": "code",
   "execution_count": 70,
   "id": "e902b0cf",
   "metadata": {},
   "outputs": [],
   "source": [
    "gnb = GaussianNB()\n",
    "mnb = MultinomialNB()\n",
    "bnb = BernoulliNB()"
   ]
  },
  {
   "cell_type": "code",
   "execution_count": 71,
   "id": "c4eefadd",
   "metadata": {},
   "outputs": [
    {
     "name": "stdout",
     "output_type": "stream",
     "text": [
      "0.8694390715667312\n",
      "[[788 108]\n",
      " [ 27 111]]\n",
      "0.5068493150684932\n"
     ]
    }
   ],
   "source": [
    "gnb.fit(X_train, y_train)\n",
    "y_pred1 = gnb.predict(X_test)\n",
    "print(accuracy_score(y_test, y_pred1))\n",
    "print(confusion_matrix(y_test, y_pred1))\n",
    "print(precision_score(y_test, y_pred1))"
   ]
  },
  {
   "cell_type": "code",
   "execution_count": 72,
   "id": "b4abbbfb",
   "metadata": {},
   "outputs": [
    {
     "name": "stdout",
     "output_type": "stream",
     "text": [
      "0.9709864603481625\n",
      "[[896   0]\n",
      " [ 30 108]]\n",
      "1.0\n"
     ]
    }
   ],
   "source": [
    "mnb.fit(X_train, y_train)\n",
    "y_pred2 = mnb.predict(X_test)\n",
    "print(accuracy_score(y_test, y_pred2))\n",
    "print(confusion_matrix(y_test, y_pred2))\n",
    "print(precision_score(y_test, y_pred2))"
   ]
  },
  {
   "cell_type": "code",
   "execution_count": 73,
   "id": "e431d3c6",
   "metadata": {},
   "outputs": [
    {
     "name": "stdout",
     "output_type": "stream",
     "text": [
      "0.9835589941972921\n",
      "[[895   1]\n",
      " [ 16 122]]\n",
      "0.991869918699187\n"
     ]
    }
   ],
   "source": [
    "bnb.fit(X_train, y_train)\n",
    "y_pred3 = bnb.predict(X_test)\n",
    "print(accuracy_score(y_test, y_pred3))\n",
    "print(confusion_matrix(y_test, y_pred3))\n",
    "print(precision_score(y_test, y_pred3))"
   ]
  },
  {
   "cell_type": "markdown",
   "id": "814b4052",
   "metadata": {},
   "source": [
    "We have defined X using TfidfVectorization method and predicted y using Gaussian Naive Bayes, Multinomial Naive Bayes and Bernoullis Naive Bayes and got the best precision=1 using Multinomial Naive Bayes. So we are choosing and TfidVectorization and Multinomial Naive bayes for now\n",
    "\n",
    "Now we will apply other algorithms and check accuracy and precision"
   ]
  },
  {
   "cell_type": "code",
   "execution_count": 74,
   "id": "d5d3855c",
   "metadata": {},
   "outputs": [],
   "source": [
    "from sklearn.linear_model import LogisticRegression\n",
    "from sklearn.svm import SVC\n",
    "from sklearn.naive_bayes import MultinomialNB\n",
    "from sklearn.tree import DecisionTreeClassifier\n",
    "from sklearn.neighbors import KNeighborsClassifier\n",
    "from sklearn.ensemble import RandomForestClassifier\n",
    "from sklearn.ensemble import AdaBoostClassifier\n",
    "from sklearn.ensemble import BaggingClassifier\n",
    "from sklearn.ensemble import ExtraTreesClassifier\n",
    "from sklearn.ensemble import GradientBoostingClassifier"
   ]
  },
  {
   "cell_type": "code",
   "execution_count": 75,
   "id": "1e3bbb70",
   "metadata": {},
   "outputs": [],
   "source": [
    "svc = SVC(kernel='sigmoid', gamma=1.0)\n",
    "knc = KNeighborsClassifier()\n",
    "mnb = MultinomialNB()\n",
    "dtc = DecisionTreeClassifier(max_depth=5)\n",
    "lrc = LogisticRegression(solver='liblinear', penalty='l1')\n",
    "rfc = RandomForestClassifier(n_estimators=50, random_state=2)\n",
    "abc = AdaBoostClassifier(n_estimators=50, random_state=2)\n",
    "bc = BaggingClassifier(n_estimators=50, random_state=2)\n",
    "etc = ExtraTreesClassifier(n_estimators=50, random_state=2)\n",
    "gdbt = GradientBoostingClassifier(n_estimators=50, random_state=2)"
   ]
  },
  {
   "cell_type": "code",
   "execution_count": 76,
   "id": "130d600d",
   "metadata": {},
   "outputs": [],
   "source": [
    "clfs = {\n",
    "    'SVC': svc,\n",
    "    'KN': knc,\n",
    "    'NB': mnb,\n",
    "    'DT': dtc,\n",
    "    'LR': lrc,\n",
    "    'RF': rfc,\n",
    "    'AdaBoost': abc,\n",
    "    'BgC': bc,\n",
    "    'ETC': etc,\n",
    "    'GBDT': gdbt,\n",
    "}"
   ]
  },
  {
   "cell_type": "code",
   "execution_count": 77,
   "id": "a424f384",
   "metadata": {},
   "outputs": [],
   "source": [
    "def train_classifier(clf,X_train,y_train,X_test,y_test):\n",
    "    clf.fit(X_train,y_train)\n",
    "    y_pred=clf.predict(X_test)\n",
    "    accuracy=accuracy_score(y_test,y_pred)\n",
    "    precision=precision_score(y_test,y_pred)\n",
    "    \n",
    "    return accuracy,precision"
   ]
  },
  {
   "cell_type": "code",
   "execution_count": 78,
   "id": "3e4cf8aa",
   "metadata": {},
   "outputs": [
    {
     "data": {
      "text/plain": [
       "(0.9758220502901354, 0.9747899159663865)"
      ]
     },
     "execution_count": 78,
     "metadata": {},
     "output_type": "execute_result"
    }
   ],
   "source": [
    "train_classifier(svc,X_train,y_train,X_test,y_test)"
   ]
  },
  {
   "cell_type": "code",
   "execution_count": null,
   "id": "f09d81d9",
   "metadata": {},
   "outputs": [],
   "source": [
    "accuracy_scores=[]\n",
    "precision_scores=[]\n",
    "\n",
    "for name,clf in clfs.items():\n",
    "    current_accuracy, current_precision = train_classifier(clf,X_train,y_train,X_test,y_test)\n",
    "    \n",
    "    accuracy_scores.append(current_accuracy)\n",
    "    precision_scores.append(current_precision)"
   ]
  },
  {
   "cell_type": "code",
   "execution_count": 80,
   "id": "b00b7a0e",
   "metadata": {},
   "outputs": [],
   "source": [
    "performance_df = pd.DataFrame({'Algorithm':clfs.keys(), 'Accuracy': accuracy_scores, 'Precision': precision_scores})"
   ]
  },
  {
   "cell_type": "code",
   "execution_count": 81,
   "id": "238705c4",
   "metadata": {},
   "outputs": [
    {
     "data": {
      "text/html": [
       "<div>\n",
       "<style scoped>\n",
       "    .dataframe tbody tr th:only-of-type {\n",
       "        vertical-align: middle;\n",
       "    }\n",
       "\n",
       "    .dataframe tbody tr th {\n",
       "        vertical-align: top;\n",
       "    }\n",
       "\n",
       "    .dataframe thead th {\n",
       "        text-align: right;\n",
       "    }\n",
       "</style>\n",
       "<table border=\"1\" class=\"dataframe\">\n",
       "  <thead>\n",
       "    <tr style=\"text-align: right;\">\n",
       "      <th></th>\n",
       "      <th>Algorithm</th>\n",
       "      <th>Accuracy</th>\n",
       "      <th>Precision</th>\n",
       "    </tr>\n",
       "  </thead>\n",
       "  <tbody>\n",
       "    <tr>\n",
       "      <th>0</th>\n",
       "      <td>SVC</td>\n",
       "      <td>0.975822</td>\n",
       "      <td>0.974790</td>\n",
       "    </tr>\n",
       "    <tr>\n",
       "      <th>1</th>\n",
       "      <td>KN</td>\n",
       "      <td>0.905222</td>\n",
       "      <td>1.000000</td>\n",
       "    </tr>\n",
       "    <tr>\n",
       "      <th>2</th>\n",
       "      <td>NB</td>\n",
       "      <td>0.970986</td>\n",
       "      <td>1.000000</td>\n",
       "    </tr>\n",
       "    <tr>\n",
       "      <th>3</th>\n",
       "      <td>DT</td>\n",
       "      <td>0.932302</td>\n",
       "      <td>0.833333</td>\n",
       "    </tr>\n",
       "    <tr>\n",
       "      <th>4</th>\n",
       "      <td>LR</td>\n",
       "      <td>0.958414</td>\n",
       "      <td>0.970297</td>\n",
       "    </tr>\n",
       "    <tr>\n",
       "      <th>5</th>\n",
       "      <td>RF</td>\n",
       "      <td>0.974855</td>\n",
       "      <td>0.982759</td>\n",
       "    </tr>\n",
       "    <tr>\n",
       "      <th>6</th>\n",
       "      <td>AdaBoost</td>\n",
       "      <td>0.960348</td>\n",
       "      <td>0.929204</td>\n",
       "    </tr>\n",
       "    <tr>\n",
       "      <th>7</th>\n",
       "      <td>BgC</td>\n",
       "      <td>0.957447</td>\n",
       "      <td>0.867188</td>\n",
       "    </tr>\n",
       "    <tr>\n",
       "      <th>8</th>\n",
       "      <td>ETC</td>\n",
       "      <td>0.974855</td>\n",
       "      <td>0.974576</td>\n",
       "    </tr>\n",
       "    <tr>\n",
       "      <th>9</th>\n",
       "      <td>GBDT</td>\n",
       "      <td>0.947776</td>\n",
       "      <td>0.920000</td>\n",
       "    </tr>\n",
       "  </tbody>\n",
       "</table>\n",
       "</div>"
      ],
      "text/plain": [
       "  Algorithm  Accuracy  Precision\n",
       "0       SVC  0.975822   0.974790\n",
       "1        KN  0.905222   1.000000\n",
       "2        NB  0.970986   1.000000\n",
       "3        DT  0.932302   0.833333\n",
       "4        LR  0.958414   0.970297\n",
       "5        RF  0.974855   0.982759\n",
       "6  AdaBoost  0.960348   0.929204\n",
       "7       BgC  0.957447   0.867188\n",
       "8       ETC  0.974855   0.974576\n",
       "9      GBDT  0.947776   0.920000"
      ]
     },
     "execution_count": 81,
     "metadata": {},
     "output_type": "execute_result"
    }
   ],
   "source": [
    "performance_df"
   ]
  },
  {
   "cell_type": "code",
   "execution_count": 82,
   "id": "881c12bc",
   "metadata": {},
   "outputs": [
    {
     "data": {
      "text/html": [
       "<div>\n",
       "<style scoped>\n",
       "    .dataframe tbody tr th:only-of-type {\n",
       "        vertical-align: middle;\n",
       "    }\n",
       "\n",
       "    .dataframe tbody tr th {\n",
       "        vertical-align: top;\n",
       "    }\n",
       "\n",
       "    .dataframe thead th {\n",
       "        text-align: right;\n",
       "    }\n",
       "</style>\n",
       "<table border=\"1\" class=\"dataframe\">\n",
       "  <thead>\n",
       "    <tr style=\"text-align: right;\">\n",
       "      <th></th>\n",
       "      <th>Algorithm</th>\n",
       "      <th>Accuracy</th>\n",
       "      <th>Precision</th>\n",
       "    </tr>\n",
       "  </thead>\n",
       "  <tbody>\n",
       "    <tr>\n",
       "      <th>1</th>\n",
       "      <td>KN</td>\n",
       "      <td>0.905222</td>\n",
       "      <td>1.000000</td>\n",
       "    </tr>\n",
       "    <tr>\n",
       "      <th>2</th>\n",
       "      <td>NB</td>\n",
       "      <td>0.970986</td>\n",
       "      <td>1.000000</td>\n",
       "    </tr>\n",
       "    <tr>\n",
       "      <th>5</th>\n",
       "      <td>RF</td>\n",
       "      <td>0.974855</td>\n",
       "      <td>0.982759</td>\n",
       "    </tr>\n",
       "    <tr>\n",
       "      <th>0</th>\n",
       "      <td>SVC</td>\n",
       "      <td>0.975822</td>\n",
       "      <td>0.974790</td>\n",
       "    </tr>\n",
       "    <tr>\n",
       "      <th>8</th>\n",
       "      <td>ETC</td>\n",
       "      <td>0.974855</td>\n",
       "      <td>0.974576</td>\n",
       "    </tr>\n",
       "    <tr>\n",
       "      <th>4</th>\n",
       "      <td>LR</td>\n",
       "      <td>0.958414</td>\n",
       "      <td>0.970297</td>\n",
       "    </tr>\n",
       "    <tr>\n",
       "      <th>6</th>\n",
       "      <td>AdaBoost</td>\n",
       "      <td>0.960348</td>\n",
       "      <td>0.929204</td>\n",
       "    </tr>\n",
       "    <tr>\n",
       "      <th>9</th>\n",
       "      <td>GBDT</td>\n",
       "      <td>0.947776</td>\n",
       "      <td>0.920000</td>\n",
       "    </tr>\n",
       "    <tr>\n",
       "      <th>7</th>\n",
       "      <td>BgC</td>\n",
       "      <td>0.957447</td>\n",
       "      <td>0.867188</td>\n",
       "    </tr>\n",
       "    <tr>\n",
       "      <th>3</th>\n",
       "      <td>DT</td>\n",
       "      <td>0.932302</td>\n",
       "      <td>0.833333</td>\n",
       "    </tr>\n",
       "  </tbody>\n",
       "</table>\n",
       "</div>"
      ],
      "text/plain": [
       "  Algorithm  Accuracy  Precision\n",
       "1        KN  0.905222   1.000000\n",
       "2        NB  0.970986   1.000000\n",
       "5        RF  0.974855   0.982759\n",
       "0       SVC  0.975822   0.974790\n",
       "8       ETC  0.974855   0.974576\n",
       "4        LR  0.958414   0.970297\n",
       "6  AdaBoost  0.960348   0.929204\n",
       "9      GBDT  0.947776   0.920000\n",
       "7       BgC  0.957447   0.867188\n",
       "3        DT  0.932302   0.833333"
      ]
     },
     "execution_count": 82,
     "metadata": {},
     "output_type": "execute_result"
    }
   ],
   "source": [
    "performance_df.sort_values('Precision', ascending = False)"
   ]
  },
  {
   "cell_type": "code",
   "execution_count": 83,
   "id": "0f7fd6d9",
   "metadata": {},
   "outputs": [],
   "source": [
    "import pickle\n",
    "pickle.dump(tfidf, open('vectorizer.pkl', 'wb'))\n",
    "pickle.dump(mnb, open('model.pkl', 'wb'))"
   ]
  },
  {
   "cell_type": "code",
   "execution_count": 94,
   "id": "52ff73d5",
   "metadata": {},
   "outputs": [
    {
     "name": "stdout",
     "output_type": "stream",
     "text": [
      "Enter an SMS: hi\n",
      "Not Spam\n"
     ]
    }
   ],
   "source": [
    "input_sms = input(\"Enter an SMS: \")\n",
    "transform_sms = transform_text(input_sms)\n",
    "\n",
    "#vectorize\n",
    "vector_input = tfidf.transform([transform_sms])\n",
    "\n",
    "#prediction\n",
    "result = mnb.predict(vector_input)[0]\n",
    "\n",
    "if result==1:\n",
    "    print('Spam')\n",
    "else:\n",
    "    print(\"Not Spam\")"
   ]
  },
  {
   "cell_type": "code",
   "execution_count": null,
   "id": "4768b3d9",
   "metadata": {},
   "outputs": [],
   "source": []
  }
 ],
 "metadata": {
  "kernelspec": {
   "display_name": "Python 3 (ipykernel)",
   "language": "python",
   "name": "python3"
  },
  "language_info": {
   "codemirror_mode": {
    "name": "ipython",
    "version": 3
   },
   "file_extension": ".py",
   "mimetype": "text/x-python",
   "name": "python",
   "nbconvert_exporter": "python",
   "pygments_lexer": "ipython3",
   "version": "3.9.12"
  }
 },
 "nbformat": 4,
 "nbformat_minor": 5
}
